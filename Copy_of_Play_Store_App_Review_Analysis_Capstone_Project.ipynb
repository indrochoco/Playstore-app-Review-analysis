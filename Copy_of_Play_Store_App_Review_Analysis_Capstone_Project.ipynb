{
  "nbformat": 4,
  "nbformat_minor": 0,
  "metadata": {
    "kernelspec": {
      "display_name": "Python 3",
      "language": "python",
      "name": "python3"
    },
    "language_info": {
      "codemirror_mode": {
        "name": "ipython",
        "version": 3
      },
      "file_extension": ".py",
      "mimetype": "text/x-python",
      "name": "python",
      "nbconvert_exporter": "python",
      "pygments_lexer": "ipython3",
      "version": "3.6.6"
    },
    "colab": {
      "name": "Copy of Play Store App Review Analysis - Capstone Project.ipynb",
      "provenance": [],
      "collapsed_sections": [],
      "include_colab_link": true
    }
  },
  "cells": [
    {
      "cell_type": "markdown",
      "metadata": {
        "id": "view-in-github",
        "colab_type": "text"
      },
      "source": [
        "<a href=\"https://colab.research.google.com/github/indrochoco/Playstore-app-Review-analysis/blob/main/Copy_of_Play_Store_App_Review_Analysis_Capstone_Project.ipynb\" target=\"_parent\"><img src=\"https://colab.research.google.com/assets/colab-badge.svg\" alt=\"Open In Colab\"/></a>"
      ]
    },
    {
      "cell_type": "markdown",
      "metadata": {
        "id": "Y06xIdG26kRF"
      },
      "source": [
        "## <b> The Play Store apps data has enormous potential to drive app-making businesses to success. Actionable insights can be drawn for developers to work on and capture the Android market. </b>\n",
        "\n",
        "## <b> Each app (row) has values for catergory, rating, size, and more. Another dataset contains customer reviews of the android apps.</b>\n",
        "\n",
        "## <b> Explore and analyze the data to discover key factors responsible for app engagement and success. </b>"
      ]
    },
    {
      "cell_type": "code",
      "metadata": {
        "id": "Iur8739kmcFH"
      },
      "source": [
        "import pandas as pd\n",
        "import numpy as np\n",
        "import seaborn as sns\n",
        "import matplotlib.pyplot as plt\n",
        "%matplotlib inline\n",
        "from datetime import datetime"
      ],
      "execution_count": 3,
      "outputs": []
    },
    {
      "cell_type": "code",
      "metadata": {
        "colab": {
          "base_uri": "https://localhost:8080/"
        },
        "id": "MGsP9DsYmJ6M",
        "outputId": "d90c0720-2954-4f52-e219-f634b11b3baf"
      },
      "source": [
        "from google.colab import drive\n",
        "drive.mount('/content/drive')"
      ],
      "execution_count": 4,
      "outputs": [
        {
          "output_type": "stream",
          "name": "stdout",
          "text": [
            "Mounted at /content/drive\n"
          ]
        }
      ]
    },
    {
      "cell_type": "code",
      "metadata": {
        "id": "dByMsuzT8Tnw"
      },
      "source": [
        "path ='/content/drive/MyDrive/almabetter/capstone project/Copy of Play Store Data.csv'\n",
        "df = pd.read_csv(path)"
      ],
      "execution_count": 5,
      "outputs": []
    },
    {
      "cell_type": "code",
      "metadata": {
        "id": "iNWDUYUQm2gB"
      },
      "source": [
        "path_1='/content/drive/MyDrive/almabetter/capstone project/Copy of User Reviews.csv'\n",
        "df_1 = pd.read_csv(path_1)"
      ],
      "execution_count": 6,
      "outputs": []
    },
    {
      "cell_type": "code",
      "metadata": {
        "colab": {
          "base_uri": "https://localhost:8080/",
          "height": 210
        },
        "id": "a-c-w_2NnDBg",
        "outputId": "1c2b6f73-fc9e-4d44-c493-469a985b9843"
      },
      "source": [
        "df.head(3)"
      ],
      "execution_count": null,
      "outputs": [
        {
          "output_type": "execute_result",
          "data": {
            "text/html": [
              "<div>\n",
              "<style scoped>\n",
              "    .dataframe tbody tr th:only-of-type {\n",
              "        vertical-align: middle;\n",
              "    }\n",
              "\n",
              "    .dataframe tbody tr th {\n",
              "        vertical-align: top;\n",
              "    }\n",
              "\n",
              "    .dataframe thead th {\n",
              "        text-align: right;\n",
              "    }\n",
              "</style>\n",
              "<table border=\"1\" class=\"dataframe\">\n",
              "  <thead>\n",
              "    <tr style=\"text-align: right;\">\n",
              "      <th></th>\n",
              "      <th>App</th>\n",
              "      <th>Category</th>\n",
              "      <th>Rating</th>\n",
              "      <th>Reviews</th>\n",
              "      <th>Size</th>\n",
              "      <th>Installs</th>\n",
              "      <th>Type</th>\n",
              "      <th>Price</th>\n",
              "      <th>Content Rating</th>\n",
              "      <th>Genres</th>\n",
              "      <th>Last Updated</th>\n",
              "      <th>Current Ver</th>\n",
              "      <th>Android Ver</th>\n",
              "    </tr>\n",
              "  </thead>\n",
              "  <tbody>\n",
              "    <tr>\n",
              "      <th>0</th>\n",
              "      <td>Photo Editor &amp; Candy Camera &amp; Grid &amp; ScrapBook</td>\n",
              "      <td>ART_AND_DESIGN</td>\n",
              "      <td>4.1</td>\n",
              "      <td>159</td>\n",
              "      <td>19M</td>\n",
              "      <td>10,000+</td>\n",
              "      <td>Free</td>\n",
              "      <td>0</td>\n",
              "      <td>Everyone</td>\n",
              "      <td>Art &amp; Design</td>\n",
              "      <td>January 7, 2018</td>\n",
              "      <td>1.0.0</td>\n",
              "      <td>4.0.3 and up</td>\n",
              "    </tr>\n",
              "    <tr>\n",
              "      <th>1</th>\n",
              "      <td>Coloring book moana</td>\n",
              "      <td>ART_AND_DESIGN</td>\n",
              "      <td>3.9</td>\n",
              "      <td>967</td>\n",
              "      <td>14M</td>\n",
              "      <td>500,000+</td>\n",
              "      <td>Free</td>\n",
              "      <td>0</td>\n",
              "      <td>Everyone</td>\n",
              "      <td>Art &amp; Design;Pretend Play</td>\n",
              "      <td>January 15, 2018</td>\n",
              "      <td>2.0.0</td>\n",
              "      <td>4.0.3 and up</td>\n",
              "    </tr>\n",
              "    <tr>\n",
              "      <th>2</th>\n",
              "      <td>U Launcher Lite – FREE Live Cool Themes, Hide ...</td>\n",
              "      <td>ART_AND_DESIGN</td>\n",
              "      <td>4.7</td>\n",
              "      <td>87510</td>\n",
              "      <td>8.7M</td>\n",
              "      <td>5,000,000+</td>\n",
              "      <td>Free</td>\n",
              "      <td>0</td>\n",
              "      <td>Everyone</td>\n",
              "      <td>Art &amp; Design</td>\n",
              "      <td>August 1, 2018</td>\n",
              "      <td>1.2.4</td>\n",
              "      <td>4.0.3 and up</td>\n",
              "    </tr>\n",
              "  </tbody>\n",
              "</table>\n",
              "</div>"
            ],
            "text/plain": [
              "                                                 App  ...   Android Ver\n",
              "0     Photo Editor & Candy Camera & Grid & ScrapBook  ...  4.0.3 and up\n",
              "1                                Coloring book moana  ...  4.0.3 and up\n",
              "2  U Launcher Lite – FREE Live Cool Themes, Hide ...  ...  4.0.3 and up\n",
              "\n",
              "[3 rows x 13 columns]"
            ]
          },
          "metadata": {},
          "execution_count": 173
        }
      ]
    },
    {
      "cell_type": "code",
      "metadata": {
        "colab": {
          "base_uri": "https://localhost:8080/",
          "height": 142
        },
        "id": "TzRjGad-nC5_",
        "outputId": "cbc0b873-31bc-46a2-a447-6b0b50724107"
      },
      "source": [
        "df_1.head(3)"
      ],
      "execution_count": null,
      "outputs": [
        {
          "output_type": "execute_result",
          "data": {
            "text/html": [
              "<div>\n",
              "<style scoped>\n",
              "    .dataframe tbody tr th:only-of-type {\n",
              "        vertical-align: middle;\n",
              "    }\n",
              "\n",
              "    .dataframe tbody tr th {\n",
              "        vertical-align: top;\n",
              "    }\n",
              "\n",
              "    .dataframe thead th {\n",
              "        text-align: right;\n",
              "    }\n",
              "</style>\n",
              "<table border=\"1\" class=\"dataframe\">\n",
              "  <thead>\n",
              "    <tr style=\"text-align: right;\">\n",
              "      <th></th>\n",
              "      <th>App</th>\n",
              "      <th>Translated_Review</th>\n",
              "      <th>Sentiment</th>\n",
              "      <th>Sentiment_Polarity</th>\n",
              "      <th>Sentiment_Subjectivity</th>\n",
              "    </tr>\n",
              "  </thead>\n",
              "  <tbody>\n",
              "    <tr>\n",
              "      <th>0</th>\n",
              "      <td>10 Best Foods for You</td>\n",
              "      <td>I like eat delicious food. That's I'm cooking ...</td>\n",
              "      <td>Positive</td>\n",
              "      <td>1.00</td>\n",
              "      <td>0.533333</td>\n",
              "    </tr>\n",
              "    <tr>\n",
              "      <th>1</th>\n",
              "      <td>10 Best Foods for You</td>\n",
              "      <td>This help eating healthy exercise regular basis</td>\n",
              "      <td>Positive</td>\n",
              "      <td>0.25</td>\n",
              "      <td>0.288462</td>\n",
              "    </tr>\n",
              "    <tr>\n",
              "      <th>2</th>\n",
              "      <td>10 Best Foods for You</td>\n",
              "      <td>NaN</td>\n",
              "      <td>NaN</td>\n",
              "      <td>NaN</td>\n",
              "      <td>NaN</td>\n",
              "    </tr>\n",
              "  </tbody>\n",
              "</table>\n",
              "</div>"
            ],
            "text/plain": [
              "                     App  ... Sentiment_Subjectivity\n",
              "0  10 Best Foods for You  ...               0.533333\n",
              "1  10 Best Foods for You  ...               0.288462\n",
              "2  10 Best Foods for You  ...                    NaN\n",
              "\n",
              "[3 rows x 5 columns]"
            ]
          },
          "metadata": {},
          "execution_count": 174
        }
      ]
    },
    {
      "cell_type": "markdown",
      "metadata": {
        "id": "KKQtyadjzFx0"
      },
      "source": [
        "# **Rating column data type is String format here, so we need to check the rating and convert it to FLoat data type for better analysis**"
      ]
    },
    {
      "cell_type": "code",
      "metadata": {
        "id": "rswgadlmnCyO",
        "colab": {
          "base_uri": "https://localhost:8080/"
        },
        "outputId": "b3a67b09-37e2-44a5-eadd-46b971319d15"
      },
      "source": [
        "df.info()"
      ],
      "execution_count": 129,
      "outputs": [
        {
          "output_type": "stream",
          "name": "stdout",
          "text": [
            "<class 'pandas.core.frame.DataFrame'>\n",
            "RangeIndex: 10841 entries, 0 to 10840\n",
            "Data columns (total 13 columns):\n",
            " #   Column          Non-Null Count  Dtype  \n",
            "---  ------          --------------  -----  \n",
            " 0   App             10841 non-null  object \n",
            " 1   Category        10840 non-null  object \n",
            " 2   Rating          9367 non-null   float64\n",
            " 3   Reviews         10841 non-null  int64  \n",
            " 4   Size            10841 non-null  float64\n",
            " 5   Installs        10841 non-null  int64  \n",
            " 6   Type            10840 non-null  object \n",
            " 7   Price           10841 non-null  float64\n",
            " 8   Content Rating  10841 non-null  object \n",
            " 9   Genres          10840 non-null  object \n",
            " 10  Last Updated    10841 non-null  object \n",
            " 11  Current Ver     10833 non-null  object \n",
            " 12  Android Ver     10839 non-null  object \n",
            "dtypes: float64(3), int64(2), object(8)\n",
            "memory usage: 1.1+ MB\n"
          ]
        }
      ]
    },
    {
      "cell_type": "code",
      "metadata": {
        "id": "a6fsk2DnHTC5"
      },
      "source": [
        "df.describe()"
      ],
      "execution_count": null,
      "outputs": []
    },
    {
      "cell_type": "code",
      "metadata": {
        "id": "3OaBQr6enP_b"
      },
      "source": [
        "df_1.info()"
      ],
      "execution_count": null,
      "outputs": []
    },
    {
      "cell_type": "code",
      "metadata": {
        "id": "l6sOzMsPXryd"
      },
      "source": [
        "df_1.describe()"
      ],
      "execution_count": null,
      "outputs": []
    },
    {
      "cell_type": "code",
      "metadata": {
        "id": "8jdY-FV_nS0c",
        "colab": {
          "base_uri": "https://localhost:8080/"
        },
        "outputId": "353f612a-75f9-4b58-f068-262a5e682bb0"
      },
      "source": [
        "df.shape"
      ],
      "execution_count": null,
      "outputs": [
        {
          "output_type": "execute_result",
          "data": {
            "text/plain": [
              "(10841, 13)"
            ]
          },
          "metadata": {},
          "execution_count": 127
        }
      ]
    },
    {
      "cell_type": "code",
      "metadata": {
        "id": "D6zu6LAUnV5e",
        "colab": {
          "base_uri": "https://localhost:8080/"
        },
        "outputId": "7eb02888-b8bd-40a0-d9b2-3622b1b0e823"
      },
      "source": [
        "df_1.shape"
      ],
      "execution_count": null,
      "outputs": [
        {
          "output_type": "execute_result",
          "data": {
            "text/plain": [
              "(64295, 5)"
            ]
          },
          "metadata": {},
          "execution_count": 128
        }
      ]
    },
    {
      "cell_type": "code",
      "metadata": {
        "colab": {
          "base_uri": "https://localhost:8080/"
        },
        "id": "Er2OdvXXnclB",
        "outputId": "b5ad7bd8-5a1a-4aa7-81f0-4160c472a943"
      },
      "source": [
        "df.columns"
      ],
      "execution_count": null,
      "outputs": [
        {
          "output_type": "execute_result",
          "data": {
            "text/plain": [
              "Index(['App', 'Category', 'Rating', 'Reviews', 'Size', 'Installs', 'Type',\n",
              "       'Price', 'Content Rating', 'Genres', 'Last Updated', 'Current Ver',\n",
              "       'Android Ver'],\n",
              "      dtype='object')"
            ]
          },
          "metadata": {},
          "execution_count": 129
        }
      ]
    },
    {
      "cell_type": "code",
      "metadata": {
        "colab": {
          "base_uri": "https://localhost:8080/"
        },
        "id": "Oycm5lhOniE8",
        "outputId": "683205e4-9e65-482d-d558-465f05cb895d"
      },
      "source": [
        "df.Category.unique()\n",
        "#Basically there should not be \"1.9\" in the catergory "
      ],
      "execution_count": 7,
      "outputs": [
        {
          "output_type": "execute_result",
          "data": {
            "text/plain": [
              "array(['ART_AND_DESIGN', 'AUTO_AND_VEHICLES', 'BEAUTY',\n",
              "       'BOOKS_AND_REFERENCE', 'BUSINESS', 'COMICS', 'COMMUNICATION',\n",
              "       'DATING', 'EDUCATION', 'ENTERTAINMENT', 'EVENTS', 'FINANCE',\n",
              "       'FOOD_AND_DRINK', 'HEALTH_AND_FITNESS', 'HOUSE_AND_HOME',\n",
              "       'LIBRARIES_AND_DEMO', 'LIFESTYLE', 'GAME', 'FAMILY', 'MEDICAL',\n",
              "       'SOCIAL', 'SHOPPING', 'PHOTOGRAPHY', 'SPORTS', 'TRAVEL_AND_LOCAL',\n",
              "       'TOOLS', 'PERSONALIZATION', 'PRODUCTIVITY', 'PARENTING', 'WEATHER',\n",
              "       'VIDEO_PLAYERS', 'NEWS_AND_MAGAZINES', 'MAPS_AND_NAVIGATION',\n",
              "       '1.9'], dtype=object)"
            ]
          },
          "metadata": {},
          "execution_count": 7
        }
      ]
    },
    {
      "cell_type": "markdown",
      "metadata": {
        "id": "Iln5lXoEaNJd"
      },
      "source": [
        ""
      ]
    },
    {
      "cell_type": "markdown",
      "metadata": {
        "id": "V37mrIo9xC32"
      },
      "source": [
        "# **Let's clean the data first** -- Data cleaining"
      ]
    },
    {
      "cell_type": "code",
      "metadata": {
        "colab": {
          "base_uri": "https://localhost:8080/",
          "height": 114
        },
        "id": "CiulMBzko40W",
        "outputId": "d655928a-cc41-4d03-98ec-383999fcbd38"
      },
      "source": [
        "df[df.Category =='1.9']"
      ],
      "execution_count": 8,
      "outputs": [
        {
          "output_type": "execute_result",
          "data": {
            "text/html": [
              "<div>\n",
              "<style scoped>\n",
              "    .dataframe tbody tr th:only-of-type {\n",
              "        vertical-align: middle;\n",
              "    }\n",
              "\n",
              "    .dataframe tbody tr th {\n",
              "        vertical-align: top;\n",
              "    }\n",
              "\n",
              "    .dataframe thead th {\n",
              "        text-align: right;\n",
              "    }\n",
              "</style>\n",
              "<table border=\"1\" class=\"dataframe\">\n",
              "  <thead>\n",
              "    <tr style=\"text-align: right;\">\n",
              "      <th></th>\n",
              "      <th>App</th>\n",
              "      <th>Category</th>\n",
              "      <th>Rating</th>\n",
              "      <th>Reviews</th>\n",
              "      <th>Size</th>\n",
              "      <th>Installs</th>\n",
              "      <th>Type</th>\n",
              "      <th>Price</th>\n",
              "      <th>Content Rating</th>\n",
              "      <th>Genres</th>\n",
              "      <th>Last Updated</th>\n",
              "      <th>Current Ver</th>\n",
              "      <th>Android Ver</th>\n",
              "    </tr>\n",
              "  </thead>\n",
              "  <tbody>\n",
              "    <tr>\n",
              "      <th>10472</th>\n",
              "      <td>Life Made WI-Fi Touchscreen Photo Frame</td>\n",
              "      <td>1.9</td>\n",
              "      <td>19.0</td>\n",
              "      <td>3.0M</td>\n",
              "      <td>1,000+</td>\n",
              "      <td>Free</td>\n",
              "      <td>0</td>\n",
              "      <td>Everyone</td>\n",
              "      <td>NaN</td>\n",
              "      <td>February 11, 2018</td>\n",
              "      <td>1.0.19</td>\n",
              "      <td>4.0 and up</td>\n",
              "      <td>NaN</td>\n",
              "    </tr>\n",
              "  </tbody>\n",
              "</table>\n",
              "</div>"
            ],
            "text/plain": [
              "                                           App Category  ...  Current Ver Android Ver\n",
              "10472  Life Made WI-Fi Touchscreen Photo Frame      1.9  ...   4.0 and up         NaN\n",
              "\n",
              "[1 rows x 13 columns]"
            ]
          },
          "metadata": {},
          "execution_count": 8
        }
      ]
    },
    {
      "cell_type": "code",
      "metadata": {
        "id": "KNkXlZcIqDHo"
      },
      "source": [
        "df.loc[10472] = df.loc[10472].shift()\n"
      ],
      "execution_count": 9,
      "outputs": []
    },
    {
      "cell_type": "code",
      "metadata": {
        "id": "Fs-6NAnDvMiB"
      },
      "source": [
        "df.App.loc[10472]= df.Category.loc[10472]\n"
      ],
      "execution_count": 10,
      "outputs": []
    },
    {
      "cell_type": "code",
      "metadata": {
        "id": "uwZxD19Iwkel"
      },
      "source": [
        "df.Category.loc[10472]= np.nan"
      ],
      "execution_count": 11,
      "outputs": []
    },
    {
      "cell_type": "code",
      "metadata": {
        "id": "yPJw5TomwwC2"
      },
      "source": [
        "df.loc[10472]"
      ],
      "execution_count": null,
      "outputs": []
    },
    {
      "cell_type": "markdown",
      "metadata": {
        "id": "_sSxrPMzxleS"
      },
      "source": [
        "**So,  lets take a look of Genres**"
      ]
    },
    {
      "cell_type": "code",
      "metadata": {
        "id": "-pQWsja3pt_L"
      },
      "source": [
        "df.Genres.unique()\n"
      ],
      "execution_count": null,
      "outputs": []
    },
    {
      "cell_type": "markdown",
      "metadata": {
        "id": "FTb3B4vFxu_y"
      },
      "source": [
        "**Look like genres are pretty much okay**"
      ]
    },
    {
      "cell_type": "code",
      "metadata": {
        "id": "rrxAEhK-yeBt"
      },
      "source": [
        "type(df.Rating[0])"
      ],
      "execution_count": null,
      "outputs": []
    },
    {
      "cell_type": "markdown",
      "metadata": {
        "id": "8LrqkMZkz8JW"
      },
      "source": [
        "***Now Price, Rating and review column's data type should be changed, for better analysis***"
      ]
    },
    {
      "cell_type": "code",
      "metadata": {
        "id": "kidDPbAswzw4"
      },
      "source": [
        "df.Rating = df.Rating.astype('float')"
      ],
      "execution_count": 13,
      "outputs": []
    },
    {
      "cell_type": "code",
      "metadata": {
        "id": "Uydvl5_ITW8j"
      },
      "source": [
        "df.Reviews = df.Reviews.astype('int')"
      ],
      "execution_count": 14,
      "outputs": []
    },
    {
      "cell_type": "code",
      "metadata": {
        "id": "3SvHhqaYaZar"
      },
      "source": [
        "df.Price = df.Price.str.replace('$','')\n",
        "df.Price= df.Price.astype('float')"
      ],
      "execution_count": 106,
      "outputs": []
    },
    {
      "cell_type": "code",
      "metadata": {
        "id": "x6_AyD0Mz0ps"
      },
      "source": [
        "df.info()"
      ],
      "execution_count": null,
      "outputs": []
    },
    {
      "cell_type": "markdown",
      "metadata": {
        "id": "_RtsBBDy2AYb"
      },
      "source": [
        "## **Installs column should be modified properly , as per ease of analysis**\n",
        "Data Organizing"
      ]
    },
    {
      "cell_type": "code",
      "metadata": {
        "id": "HqukJ9WXz11A"
      },
      "source": [
        "df.Installs = df.Installs.str.replace('+','')"
      ],
      "execution_count": 15,
      "outputs": []
    },
    {
      "cell_type": "code",
      "metadata": {
        "id": "eB92BKHD1fAu"
      },
      "source": [
        "df.Installs = df.Installs.str.replace(',','')"
      ],
      "execution_count": 16,
      "outputs": []
    },
    {
      "cell_type": "code",
      "metadata": {
        "id": "G2oN98Tw1NlH"
      },
      "source": [
        "df.Installs = df.Installs.astype('int')"
      ],
      "execution_count": 17,
      "outputs": []
    },
    {
      "cell_type": "code",
      "metadata": {
        "id": "a04eMerM1Oqo"
      },
      "source": [
        "# MAX installs rows are\n",
        "df[df.Installs==df.Installs.max()].tail()"
      ],
      "execution_count": null,
      "outputs": []
    },
    {
      "cell_type": "markdown",
      "metadata": {
        "id": "AUinENKG3mTn"
      },
      "source": [
        "##*Now Searching the most installed app's Category*"
      ]
    },
    {
      "cell_type": "code",
      "metadata": {
        "id": "jelzKae11uxl"
      },
      "source": [
        "max_installs= df[df.Installs==df.Installs.max()]"
      ],
      "execution_count": 19,
      "outputs": []
    },
    {
      "cell_type": "markdown",
      "metadata": {
        "id": "61GTBNZI4SSf"
      },
      "source": [
        "\n",
        "\n",
        "\n",
        "**Okay!!!!**\n",
        "*These categories are the popular among users*"
      ]
    },
    {
      "cell_type": "code",
      "metadata": {
        "colab": {
          "base_uri": "https://localhost:8080/"
        },
        "id": "e4GazcgO3Mt7",
        "outputId": "a7373bd6-91a5-4f9b-9720-71986fcf1da2"
      },
      "source": [
        "max_installs.Category.unique()"
      ],
      "execution_count": 24,
      "outputs": [
        {
          "output_type": "execute_result",
          "data": {
            "text/plain": [
              "array(['BOOKS_AND_REFERENCE', 'COMMUNICATION', 'ENTERTAINMENT', 'GAME',\n",
              "       'SOCIAL', 'PHOTOGRAPHY', 'TRAVEL_AND_LOCAL', 'TOOLS',\n",
              "       'PRODUCTIVITY', 'VIDEO_PLAYERS', 'NEWS_AND_MAGAZINES', 'FAMILY'],\n",
              "      dtype=object)"
            ]
          },
          "metadata": {},
          "execution_count": 24
        }
      ]
    },
    {
      "cell_type": "code",
      "metadata": {
        "id": "Ns5dryah3b4J"
      },
      "source": [
        "max_installs_good_rating= max_installs.groupby('Category')['Rating'].mean().sort_values(ascending=False)"
      ],
      "execution_count": 21,
      "outputs": []
    },
    {
      "cell_type": "code",
      "metadata": {
        "id": "Biccqa2a68Gh",
        "colab": {
          "base_uri": "https://localhost:8080/"
        },
        "outputId": "c87ffaf8-4415-4df9-ba26-f09b1a938233"
      },
      "source": [
        "max_installs_good_rating"
      ],
      "execution_count": 22,
      "outputs": [
        {
          "output_type": "execute_result",
          "data": {
            "text/plain": [
              "Category\n",
              "PHOTOGRAPHY            4.500000\n",
              "GAME                   4.500000\n",
              "TOOLS                  4.400000\n",
              "PRODUCTIVITY           4.400000\n",
              "SOCIAL                 4.325000\n",
              "FAMILY                 4.300000\n",
              "ENTERTAINMENT          4.300000\n",
              "TRAVEL_AND_LOCAL       4.260000\n",
              "COMMUNICATION          4.173684\n",
              "VIDEO_PLAYERS          4.100000\n",
              "NEWS_AND_MAGAZINES     3.900000\n",
              "BOOKS_AND_REFERENCE    3.900000\n",
              "Name: Rating, dtype: float64"
            ]
          },
          "metadata": {},
          "execution_count": 22
        }
      ]
    },
    {
      "cell_type": "markdown",
      "metadata": {
        "id": "NFDZbZ_s9IPv"
      },
      "source": [
        "## Adding some visualization Between category vs Rating.\n",
        "these graph shows that, how rating varies with category , although all these apps are maximun installed."
      ]
    },
    {
      "cell_type": "code",
      "metadata": {
        "id": "JWInnfaE8rXF",
        "colab": {
          "base_uri": "https://localhost:8080/",
          "height": 389
        },
        "outputId": "71580198-0002-43c4-9524-f38c4cb26a66"
      },
      "source": [
        "plt.rcParams['figure.figsize'] = (20, 6)\n",
        "ax = max_installs_good_rating.plot.bar( rot=0)"
      ],
      "execution_count": 23,
      "outputs": [
        {
          "output_type": "display_data",
          "data": {
            "image/png": "[encoded data removed]",
            "text/plain": [
              "<Figure size 1440x432 with 1 Axes>"
            ]
          },
          "metadata": {
            "needs_background": "light"
          }
        }
      ]
    },
    {
      "cell_type": "markdown",
      "metadata": {
        "id": "r7ZqGaPteMnM"
      },
      "source": [
        "## By observing both graph , most installed and good rating geners or categories are Photography and Arcade/Game. Tools and Productivity are followed behind. "
      ]
    },
    {
      "cell_type": "code",
      "metadata": {
        "id": "wE6K4_rR51D7",
        "colab": {
          "base_uri": "https://localhost:8080/",
          "height": 388
        },
        "outputId": "e81d6b95-4015-443a-af64-48624a0d03fe"
      },
      "source": [
        "\n",
        "ax = sns.barplot(x=\"Genres\", y=\"Rating\", data=max_installs)"
      ],
      "execution_count": 25,
      "outputs": [
        {
          "output_type": "display_data",
          "data": {
            "image/png": "[encoded data removed]",
            "text/plain": [
              "<Figure size 1440x432 with 1 Axes>"
            ]
          },
          "metadata": {
            "needs_background": "light"
          }
        }
      ]
    },
    {
      "cell_type": "markdown",
      "metadata": {
        "id": "5IOjXTtEuJbN"
      },
      "source": [
        "### It was observed that some app size is 0, so it was assumed that those were the per-installed application, and some apps size are varries with devices. We exclude 0 and 'varries with devices' from max install dataframe, so that , we can get proper idea of how size play important role in installations."
      ]
    },
    {
      "cell_type": "code",
      "metadata": {
        "id": "JX1SonkxFytC"
      },
      "source": [
        "max_install_size= max_installs[(max_installs.Size != 0) & (max_installs.Size != 'Varies with device')]"
      ],
      "execution_count": 56,
      "outputs": []
    },
    {
      "cell_type": "code",
      "metadata": {
        "id": "bMLL9dt_GEK1"
      },
      "source": [
        "max_install_size"
      ],
      "execution_count": null,
      "outputs": []
    },
    {
      "cell_type": "markdown",
      "metadata": {
        "id": "715azQMRGctS"
      },
      "source": [
        "## Analysing Top 10 categories are the most installed by user."
      ]
    },
    {
      "cell_type": "code",
      "metadata": {
        "colab": {
          "base_uri": "https://localhost:8080/"
        },
        "id": "eF3pCt_0IGkR",
        "outputId": "39322ca2-8f54-4fed-a531-9a5f48f5b742"
      },
      "source": [
        "df.Installs.unique()"
      ],
      "execution_count": 106,
      "outputs": [
        {
          "output_type": "execute_result",
          "data": {
            "text/plain": [
              "array([     10000,     500000,    5000000,   50000000,     100000,\n",
              "            50000,    1000000,   10000000,       5000,  100000000,\n",
              "       1000000000,       1000,  500000000,         50,        100,\n",
              "              500,         10,          1,          5,          0])"
            ]
          },
          "metadata": {},
          "execution_count": 106
        }
      ]
    },
    {
      "cell_type": "code",
      "metadata": {
        "id": "me3JyPhqHIzS"
      },
      "source": [
        "df_non_null= df[~df.Genres.isna()]"
      ],
      "execution_count": 127,
      "outputs": []
    },
    {
      "cell_type": "code",
      "metadata": {
        "colab": {
          "base_uri": "https://localhost:8080/"
        },
        "id": "aNS_n7OxcxRf",
        "outputId": "d5294bcb-f00f-4aec-9a13-cd847f43a025"
      },
      "source": [
        "df_non_null.shape"
      ],
      "execution_count": 128,
      "outputs": [
        {
          "output_type": "execute_result",
          "data": {
            "text/plain": [
              "(10840, 13)"
            ]
          },
          "metadata": {},
          "execution_count": 128
        }
      ]
    },
    {
      "cell_type": "code",
      "metadata": {
        "id": "gCAEhghOvWU9"
      },
      "source": [
        "avg_install= df_non_null.groupby('Category')['Installs'].mean().sort_values(ascending=False).reset_index()"
      ],
      "execution_count": 32,
      "outputs": []
    },
    {
      "cell_type": "code",
      "metadata": {
        "colab": {
          "base_uri": "https://localhost:8080/",
          "height": 359
        },
        "id": "yII4BuA4bzjR",
        "outputId": "1cb15ab0-8e58-4c58-f0ec-99a144fb55fb"
      },
      "source": [
        "avg_install[:10]"
      ],
      "execution_count": 33,
      "outputs": [
        {
          "output_type": "execute_result",
          "data": {
            "text/html": [
              "<div>\n",
              "<style scoped>\n",
              "    .dataframe tbody tr th:only-of-type {\n",
              "        vertical-align: middle;\n",
              "    }\n",
              "\n",
              "    .dataframe tbody tr th {\n",
              "        vertical-align: top;\n",
              "    }\n",
              "\n",
              "    .dataframe thead th {\n",
              "        text-align: right;\n",
              "    }\n",
              "</style>\n",
              "<table border=\"1\" class=\"dataframe\">\n",
              "  <thead>\n",
              "    <tr style=\"text-align: right;\">\n",
              "      <th></th>\n",
              "      <th>Category</th>\n",
              "      <th>Installs</th>\n",
              "    </tr>\n",
              "  </thead>\n",
              "  <tbody>\n",
              "    <tr>\n",
              "      <th>0</th>\n",
              "      <td>COMMUNICATION</td>\n",
              "      <td>8.435989e+07</td>\n",
              "    </tr>\n",
              "    <tr>\n",
              "      <th>1</th>\n",
              "      <td>SOCIAL</td>\n",
              "      <td>4.769447e+07</td>\n",
              "    </tr>\n",
              "    <tr>\n",
              "      <th>2</th>\n",
              "      <td>VIDEO_PLAYERS</td>\n",
              "      <td>3.555430e+07</td>\n",
              "    </tr>\n",
              "    <tr>\n",
              "      <th>3</th>\n",
              "      <td>PRODUCTIVITY</td>\n",
              "      <td>3.343418e+07</td>\n",
              "    </tr>\n",
              "    <tr>\n",
              "      <th>4</th>\n",
              "      <td>GAME</td>\n",
              "      <td>3.066960e+07</td>\n",
              "    </tr>\n",
              "    <tr>\n",
              "      <th>5</th>\n",
              "      <td>PHOTOGRAPHY</td>\n",
              "      <td>3.011417e+07</td>\n",
              "    </tr>\n",
              "    <tr>\n",
              "      <th>6</th>\n",
              "      <td>TRAVEL_AND_LOCAL</td>\n",
              "      <td>2.662359e+07</td>\n",
              "    </tr>\n",
              "    <tr>\n",
              "      <th>7</th>\n",
              "      <td>NEWS_AND_MAGAZINES</td>\n",
              "      <td>2.648876e+07</td>\n",
              "    </tr>\n",
              "    <tr>\n",
              "      <th>8</th>\n",
              "      <td>ENTERTAINMENT</td>\n",
              "      <td>1.925611e+07</td>\n",
              "    </tr>\n",
              "    <tr>\n",
              "      <th>9</th>\n",
              "      <td>TOOLS</td>\n",
              "      <td>1.358573e+07</td>\n",
              "    </tr>\n",
              "  </tbody>\n",
              "</table>\n",
              "</div>"
            ],
            "text/plain": [
              "             Category      Installs\n",
              "0       COMMUNICATION  8.435989e+07\n",
              "1              SOCIAL  4.769447e+07\n",
              "2       VIDEO_PLAYERS  3.555430e+07\n",
              "3        PRODUCTIVITY  3.343418e+07\n",
              "4                GAME  3.066960e+07\n",
              "5         PHOTOGRAPHY  3.011417e+07\n",
              "6    TRAVEL_AND_LOCAL  2.662359e+07\n",
              "7  NEWS_AND_MAGAZINES  2.648876e+07\n",
              "8       ENTERTAINMENT  1.925611e+07\n",
              "9               TOOLS  1.358573e+07"
            ]
          },
          "metadata": {},
          "execution_count": 33
        }
      ]
    },
    {
      "cell_type": "code",
      "metadata": {
        "colab": {
          "base_uri": "https://localhost:8080/",
          "height": 399
        },
        "id": "G537pUbWUTVk",
        "outputId": "77bc95de-0780-4629-b9cc-88f6c461df98"
      },
      "source": [
        "fig = plt.figure()\n",
        "ax = fig.add_axes([0,0,1,1])\n",
        "ax.axis('equal')\n",
        "ax.pie(avg_install[:10].Installs,labels = avg_install[:10].Category,autopct='%1.2f%%')\n",
        "plt.show()"
      ],
      "execution_count": 34,
      "outputs": [
        {
          "output_type": "display_data",
          "data": {
            "image/png": "[encoded data removed]",
            "text/plain": [
              "<Figure size 1440x432 with 1 Axes>"
            ]
          },
          "metadata": {}
        }
      ]
    },
    {
      "cell_type": "code",
      "metadata": {
        "colab": {
          "base_uri": "https://localhost:8080/",
          "height": 400
        },
        "id": "EW46i0WhS8nI",
        "outputId": "bae3f934-e36f-41f8-d861-0c5544cd71ae"
      },
      "source": [
        "#alternative Graph\n",
        "ax= avg_install[:10].plot.bar(x='Category',y='Installs',rot= 0)"
      ],
      "execution_count": 35,
      "outputs": [
        {
          "output_type": "display_data",
          "data": {
            "image/png": "[encoded data removed]",
            "text/plain": [
              "<Figure size 1440x432 with 1 Axes>"
            ]
          },
          "metadata": {
            "needs_background": "light"
          }
        }
      ]
    },
    {
      "cell_type": "markdown",
      "metadata": {
        "id": "nd9edrxGYkWb"
      },
      "source": [
        "Analysis the content Rating , as per category and individually"
      ]
    },
    {
      "cell_type": "code",
      "metadata": {
        "id": "9htFcIFxlcRE"
      },
      "source": [
        "content_rating_df = df.groupby(['Category','Content Rating'])['Content Rating'].count().unstack()"
      ],
      "execution_count": 98,
      "outputs": []
    },
    {
      "cell_type": "code",
      "metadata": {
        "colab": {
          "base_uri": "https://localhost:8080/",
          "height": 1000
        },
        "id": "0uly9vwQmCiG",
        "outputId": "c7458a91-7a0f-49c4-b2de-8fdaa60bb6cc"
      },
      "source": [
        "content_rating_df"
      ],
      "execution_count": 99,
      "outputs": [
        {
          "output_type": "execute_result",
          "data": {
            "text/html": [
              "<div>\n",
              "<style scoped>\n",
              "    .dataframe tbody tr th:only-of-type {\n",
              "        vertical-align: middle;\n",
              "    }\n",
              "\n",
              "    .dataframe tbody tr th {\n",
              "        vertical-align: top;\n",
              "    }\n",
              "\n",
              "    .dataframe thead th {\n",
              "        text-align: right;\n",
              "    }\n",
              "</style>\n",
              "<table border=\"1\" class=\"dataframe\">\n",
              "  <thead>\n",
              "    <tr style=\"text-align: right;\">\n",
              "      <th>Content Rating</th>\n",
              "      <th>Adults only 18+</th>\n",
              "      <th>Everyone</th>\n",
              "      <th>Everyone 10+</th>\n",
              "      <th>Mature 17+</th>\n",
              "      <th>Teen</th>\n",
              "      <th>Unrated</th>\n",
              "    </tr>\n",
              "    <tr>\n",
              "      <th>Category</th>\n",
              "      <th></th>\n",
              "      <th></th>\n",
              "      <th></th>\n",
              "      <th></th>\n",
              "      <th></th>\n",
              "      <th></th>\n",
              "    </tr>\n",
              "  </thead>\n",
              "  <tbody>\n",
              "    <tr>\n",
              "      <th>ART_AND_DESIGN</th>\n",
              "      <td>NaN</td>\n",
              "      <td>61.0</td>\n",
              "      <td>1.0</td>\n",
              "      <td>NaN</td>\n",
              "      <td>3.0</td>\n",
              "      <td>NaN</td>\n",
              "    </tr>\n",
              "    <tr>\n",
              "      <th>AUTO_AND_VEHICLES</th>\n",
              "      <td>NaN</td>\n",
              "      <td>83.0</td>\n",
              "      <td>1.0</td>\n",
              "      <td>NaN</td>\n",
              "      <td>1.0</td>\n",
              "      <td>NaN</td>\n",
              "    </tr>\n",
              "    <tr>\n",
              "      <th>BEAUTY</th>\n",
              "      <td>NaN</td>\n",
              "      <td>45.0</td>\n",
              "      <td>2.0</td>\n",
              "      <td>3.0</td>\n",
              "      <td>3.0</td>\n",
              "      <td>NaN</td>\n",
              "    </tr>\n",
              "    <tr>\n",
              "      <th>BOOKS_AND_REFERENCE</th>\n",
              "      <td>NaN</td>\n",
              "      <td>202.0</td>\n",
              "      <td>5.0</td>\n",
              "      <td>3.0</td>\n",
              "      <td>21.0</td>\n",
              "      <td>NaN</td>\n",
              "    </tr>\n",
              "    <tr>\n",
              "      <th>BUSINESS</th>\n",
              "      <td>NaN</td>\n",
              "      <td>445.0</td>\n",
              "      <td>1.0</td>\n",
              "      <td>1.0</td>\n",
              "      <td>13.0</td>\n",
              "      <td>NaN</td>\n",
              "    </tr>\n",
              "    <tr>\n",
              "      <th>COMICS</th>\n",
              "      <td>2.0</td>\n",
              "      <td>26.0</td>\n",
              "      <td>3.0</td>\n",
              "      <td>7.0</td>\n",
              "      <td>22.0</td>\n",
              "      <td>NaN</td>\n",
              "    </tr>\n",
              "    <tr>\n",
              "      <th>COMMUNICATION</th>\n",
              "      <td>NaN</td>\n",
              "      <td>345.0</td>\n",
              "      <td>NaN</td>\n",
              "      <td>10.0</td>\n",
              "      <td>32.0</td>\n",
              "      <td>NaN</td>\n",
              "    </tr>\n",
              "    <tr>\n",
              "      <th>DATING</th>\n",
              "      <td>NaN</td>\n",
              "      <td>21.0</td>\n",
              "      <td>NaN</td>\n",
              "      <td>201.0</td>\n",
              "      <td>12.0</td>\n",
              "      <td>NaN</td>\n",
              "    </tr>\n",
              "    <tr>\n",
              "      <th>EDUCATION</th>\n",
              "      <td>NaN</td>\n",
              "      <td>144.0</td>\n",
              "      <td>8.0</td>\n",
              "      <td>3.0</td>\n",
              "      <td>1.0</td>\n",
              "      <td>NaN</td>\n",
              "    </tr>\n",
              "    <tr>\n",
              "      <th>ENTERTAINMENT</th>\n",
              "      <td>NaN</td>\n",
              "      <td>39.0</td>\n",
              "      <td>5.0</td>\n",
              "      <td>9.0</td>\n",
              "      <td>96.0</td>\n",
              "      <td>NaN</td>\n",
              "    </tr>\n",
              "    <tr>\n",
              "      <th>EVENTS</th>\n",
              "      <td>NaN</td>\n",
              "      <td>53.0</td>\n",
              "      <td>3.0</td>\n",
              "      <td>NaN</td>\n",
              "      <td>8.0</td>\n",
              "      <td>NaN</td>\n",
              "    </tr>\n",
              "    <tr>\n",
              "      <th>FAMILY</th>\n",
              "      <td>NaN</td>\n",
              "      <td>1529.0</td>\n",
              "      <td>131.0</td>\n",
              "      <td>50.0</td>\n",
              "      <td>261.0</td>\n",
              "      <td>1.0</td>\n",
              "    </tr>\n",
              "    <tr>\n",
              "      <th>FINANCE</th>\n",
              "      <td>NaN</td>\n",
              "      <td>361.0</td>\n",
              "      <td>NaN</td>\n",
              "      <td>NaN</td>\n",
              "      <td>5.0</td>\n",
              "      <td>NaN</td>\n",
              "    </tr>\n",
              "    <tr>\n",
              "      <th>FOOD_AND_DRINK</th>\n",
              "      <td>NaN</td>\n",
              "      <td>117.0</td>\n",
              "      <td>2.0</td>\n",
              "      <td>NaN</td>\n",
              "      <td>8.0</td>\n",
              "      <td>NaN</td>\n",
              "    </tr>\n",
              "    <tr>\n",
              "      <th>GAME</th>\n",
              "      <td>NaN</td>\n",
              "      <td>608.0</td>\n",
              "      <td>131.0</td>\n",
              "      <td>74.0</td>\n",
              "      <td>331.0</td>\n",
              "      <td>NaN</td>\n",
              "    </tr>\n",
              "    <tr>\n",
              "      <th>HEALTH_AND_FITNESS</th>\n",
              "      <td>NaN</td>\n",
              "      <td>307.0</td>\n",
              "      <td>7.0</td>\n",
              "      <td>7.0</td>\n",
              "      <td>20.0</td>\n",
              "      <td>NaN</td>\n",
              "    </tr>\n",
              "    <tr>\n",
              "      <th>HOUSE_AND_HOME</th>\n",
              "      <td>NaN</td>\n",
              "      <td>86.0</td>\n",
              "      <td>NaN</td>\n",
              "      <td>NaN</td>\n",
              "      <td>2.0</td>\n",
              "      <td>NaN</td>\n",
              "    </tr>\n",
              "    <tr>\n",
              "      <th>LIBRARIES_AND_DEMO</th>\n",
              "      <td>NaN</td>\n",
              "      <td>85.0</td>\n",
              "      <td>NaN</td>\n",
              "      <td>NaN</td>\n",
              "      <td>NaN</td>\n",
              "      <td>NaN</td>\n",
              "    </tr>\n",
              "    <tr>\n",
              "      <th>LIFESTYLE</th>\n",
              "      <td>NaN</td>\n",
              "      <td>345.0</td>\n",
              "      <td>5.0</td>\n",
              "      <td>9.0</td>\n",
              "      <td>23.0</td>\n",
              "      <td>NaN</td>\n",
              "    </tr>\n",
              "    <tr>\n",
              "      <th>MAPS_AND_NAVIGATION</th>\n",
              "      <td>NaN</td>\n",
              "      <td>133.0</td>\n",
              "      <td>1.0</td>\n",
              "      <td>1.0</td>\n",
              "      <td>2.0</td>\n",
              "      <td>NaN</td>\n",
              "    </tr>\n",
              "    <tr>\n",
              "      <th>MEDICAL</th>\n",
              "      <td>NaN</td>\n",
              "      <td>442.0</td>\n",
              "      <td>9.0</td>\n",
              "      <td>7.0</td>\n",
              "      <td>5.0</td>\n",
              "      <td>NaN</td>\n",
              "    </tr>\n",
              "    <tr>\n",
              "      <th>NEWS_AND_MAGAZINES</th>\n",
              "      <td>NaN</td>\n",
              "      <td>169.0</td>\n",
              "      <td>66.0</td>\n",
              "      <td>14.0</td>\n",
              "      <td>34.0</td>\n",
              "      <td>NaN</td>\n",
              "    </tr>\n",
              "    <tr>\n",
              "      <th>PARENTING</th>\n",
              "      <td>NaN</td>\n",
              "      <td>58.0</td>\n",
              "      <td>NaN</td>\n",
              "      <td>1.0</td>\n",
              "      <td>1.0</td>\n",
              "      <td>NaN</td>\n",
              "    </tr>\n",
              "    <tr>\n",
              "      <th>PERSONALIZATION</th>\n",
              "      <td>NaN</td>\n",
              "      <td>322.0</td>\n",
              "      <td>5.0</td>\n",
              "      <td>9.0</td>\n",
              "      <td>56.0</td>\n",
              "      <td>NaN</td>\n",
              "    </tr>\n",
              "    <tr>\n",
              "      <th>PHOTOGRAPHY</th>\n",
              "      <td>NaN</td>\n",
              "      <td>318.0</td>\n",
              "      <td>NaN</td>\n",
              "      <td>5.0</td>\n",
              "      <td>12.0</td>\n",
              "      <td>NaN</td>\n",
              "    </tr>\n",
              "    <tr>\n",
              "      <th>PRODUCTIVITY</th>\n",
              "      <td>NaN</td>\n",
              "      <td>413.0</td>\n",
              "      <td>1.0</td>\n",
              "      <td>1.0</td>\n",
              "      <td>9.0</td>\n",
              "      <td>NaN</td>\n",
              "    </tr>\n",
              "    <tr>\n",
              "      <th>SHOPPING</th>\n",
              "      <td>NaN</td>\n",
              "      <td>208.0</td>\n",
              "      <td>NaN</td>\n",
              "      <td>3.0</td>\n",
              "      <td>49.0</td>\n",
              "      <td>NaN</td>\n",
              "    </tr>\n",
              "    <tr>\n",
              "      <th>SOCIAL</th>\n",
              "      <td>NaN</td>\n",
              "      <td>101.0</td>\n",
              "      <td>2.0</td>\n",
              "      <td>67.0</td>\n",
              "      <td>125.0</td>\n",
              "      <td>NaN</td>\n",
              "    </tr>\n",
              "    <tr>\n",
              "      <th>SPORTS</th>\n",
              "      <td>1.0</td>\n",
              "      <td>338.0</td>\n",
              "      <td>22.0</td>\n",
              "      <td>7.0</td>\n",
              "      <td>16.0</td>\n",
              "      <td>NaN</td>\n",
              "    </tr>\n",
              "    <tr>\n",
              "      <th>TOOLS</th>\n",
              "      <td>NaN</td>\n",
              "      <td>835.0</td>\n",
              "      <td>NaN</td>\n",
              "      <td>2.0</td>\n",
              "      <td>5.0</td>\n",
              "      <td>1.0</td>\n",
              "    </tr>\n",
              "    <tr>\n",
              "      <th>TRAVEL_AND_LOCAL</th>\n",
              "      <td>NaN</td>\n",
              "      <td>251.0</td>\n",
              "      <td>NaN</td>\n",
              "      <td>1.0</td>\n",
              "      <td>6.0</td>\n",
              "      <td>NaN</td>\n",
              "    </tr>\n",
              "    <tr>\n",
              "      <th>VIDEO_PLAYERS</th>\n",
              "      <td>NaN</td>\n",
              "      <td>146.0</td>\n",
              "      <td>2.0</td>\n",
              "      <td>3.0</td>\n",
              "      <td>24.0</td>\n",
              "      <td>NaN</td>\n",
              "    </tr>\n",
              "    <tr>\n",
              "      <th>WEATHER</th>\n",
              "      <td>NaN</td>\n",
              "      <td>78.0</td>\n",
              "      <td>1.0</td>\n",
              "      <td>1.0</td>\n",
              "      <td>2.0</td>\n",
              "      <td>NaN</td>\n",
              "    </tr>\n",
              "  </tbody>\n",
              "</table>\n",
              "</div>"
            ],
            "text/plain": [
              "Content Rating       Adults only 18+  Everyone  ...   Teen  Unrated\n",
              "Category                                        ...                \n",
              "ART_AND_DESIGN                   NaN      61.0  ...    3.0      NaN\n",
              "AUTO_AND_VEHICLES                NaN      83.0  ...    1.0      NaN\n",
              "BEAUTY                           NaN      45.0  ...    3.0      NaN\n",
              "BOOKS_AND_REFERENCE              NaN     202.0  ...   21.0      NaN\n",
              "BUSINESS                         NaN     445.0  ...   13.0      NaN\n",
              "COMICS                           2.0      26.0  ...   22.0      NaN\n",
              "COMMUNICATION                    NaN     345.0  ...   32.0      NaN\n",
              "DATING                           NaN      21.0  ...   12.0      NaN\n",
              "EDUCATION                        NaN     144.0  ...    1.0      NaN\n",
              "ENTERTAINMENT                    NaN      39.0  ...   96.0      NaN\n",
              "EVENTS                           NaN      53.0  ...    8.0      NaN\n",
              "FAMILY                           NaN    1529.0  ...  261.0      1.0\n",
              "FINANCE                          NaN     361.0  ...    5.0      NaN\n",
              "FOOD_AND_DRINK                   NaN     117.0  ...    8.0      NaN\n",
              "GAME                             NaN     608.0  ...  331.0      NaN\n",
              "HEALTH_AND_FITNESS               NaN     307.0  ...   20.0      NaN\n",
              "HOUSE_AND_HOME                   NaN      86.0  ...    2.0      NaN\n",
              "LIBRARIES_AND_DEMO               NaN      85.0  ...    NaN      NaN\n",
              "LIFESTYLE                        NaN     345.0  ...   23.0      NaN\n",
              "MAPS_AND_NAVIGATION              NaN     133.0  ...    2.0      NaN\n",
              "MEDICAL                          NaN     442.0  ...    5.0      NaN\n",
              "NEWS_AND_MAGAZINES               NaN     169.0  ...   34.0      NaN\n",
              "PARENTING                        NaN      58.0  ...    1.0      NaN\n",
              "PERSONALIZATION                  NaN     322.0  ...   56.0      NaN\n",
              "PHOTOGRAPHY                      NaN     318.0  ...   12.0      NaN\n",
              "PRODUCTIVITY                     NaN     413.0  ...    9.0      NaN\n",
              "SHOPPING                         NaN     208.0  ...   49.0      NaN\n",
              "SOCIAL                           NaN     101.0  ...  125.0      NaN\n",
              "SPORTS                           1.0     338.0  ...   16.0      NaN\n",
              "TOOLS                            NaN     835.0  ...    5.0      1.0\n",
              "TRAVEL_AND_LOCAL                 NaN     251.0  ...    6.0      NaN\n",
              "VIDEO_PLAYERS                    NaN     146.0  ...   24.0      NaN\n",
              "WEATHER                          NaN      78.0  ...    2.0      NaN\n",
              "\n",
              "[33 rows x 6 columns]"
            ]
          },
          "metadata": {},
          "execution_count": 99
        }
      ]
    },
    {
      "cell_type": "code",
      "metadata": {
        "id": "kRYTOoPXPNk_"
      },
      "source": [
        "sns.set(rc={'figure.figsize':(25,8.27)})\n",
        "sns.lineplot(data=content_rating_df)"
      ],
      "execution_count": null,
      "outputs": []
    },
    {
      "cell_type": "code",
      "metadata": {
        "colab": {
          "base_uri": "https://localhost:8080/",
          "height": 450
        },
        "id": "9QqZ3C3Xls0B",
        "outputId": "a707527e-456b-4f74-8ee6-9769ac70bccc"
      },
      "source": [
        "#individually Content rating counting\n",
        "df[\"Content Rating\"].value_counts().plot()"
      ],
      "execution_count": 103,
      "outputs": [
        {
          "output_type": "execute_result",
          "data": {
            "text/plain": [
              "<matplotlib.axes._subplots.AxesSubplot at 0x7f2bdf52ef90>"
            ]
          },
          "metadata": {},
          "execution_count": 103
        },
        {
          "output_type": "display_data",
          "data": {
            "image/png": "[encoded data removed]",
            "text/plain": [
              "<Figure size 1800x595.44 with 1 Axes>"
            ]
          },
          "metadata": {}
        }
      ]
    },
    {
      "cell_type": "markdown",
      "metadata": {
        "id": "eSGx2aTCZ28c"
      },
      "source": [
        "## Comparing between the Free and paid apps"
      ]
    },
    {
      "cell_type": "code",
      "metadata": {
        "colab": {
          "base_uri": "https://localhost:8080/",
          "height": 142
        },
        "id": "8KmnP_0blcCh",
        "outputId": "aba723dd-0781-405b-df66-3dc0e97c9511"
      },
      "source": [
        "df[(~df.Type.isna()) & (~df.Rating.isna()) & (~df.Reviews.isna())& (~df.Installs.isna())].groupby('Type').agg({'Rating':'mean','Reviews':'mean','Installs':'mean'})"
      ],
      "execution_count": 104,
      "outputs": [
        {
          "output_type": "execute_result",
          "data": {
            "text/html": [
              "<div>\n",
              "<style scoped>\n",
              "    .dataframe tbody tr th:only-of-type {\n",
              "        vertical-align: middle;\n",
              "    }\n",
              "\n",
              "    .dataframe tbody tr th {\n",
              "        vertical-align: top;\n",
              "    }\n",
              "\n",
              "    .dataframe thead th {\n",
              "        text-align: right;\n",
              "    }\n",
              "</style>\n",
              "<table border=\"1\" class=\"dataframe\">\n",
              "  <thead>\n",
              "    <tr style=\"text-align: right;\">\n",
              "      <th></th>\n",
              "      <th>Rating</th>\n",
              "      <th>Reviews</th>\n",
              "      <th>Installs</th>\n",
              "    </tr>\n",
              "    <tr>\n",
              "      <th>Type</th>\n",
              "      <th></th>\n",
              "      <th></th>\n",
              "      <th></th>\n",
              "    </tr>\n",
              "  </thead>\n",
              "  <tbody>\n",
              "    <tr>\n",
              "      <th>Free</th>\n",
              "      <td>4.185940</td>\n",
              "      <td>551061.099541</td>\n",
              "      <td>1.921497e+07</td>\n",
              "    </tr>\n",
              "    <tr>\n",
              "      <th>Paid</th>\n",
              "      <td>4.266615</td>\n",
              "      <td>14432.766615</td>\n",
              "      <td>1.127397e+05</td>\n",
              "    </tr>\n",
              "  </tbody>\n",
              "</table>\n",
              "</div>"
            ],
            "text/plain": [
              "        Rating        Reviews      Installs\n",
              "Type                                       \n",
              "Free  4.185940  551061.099541  1.921497e+07\n",
              "Paid  4.266615   14432.766615  1.127397e+05"
            ]
          },
          "metadata": {},
          "execution_count": 104
        }
      ]
    },
    {
      "cell_type": "code",
      "metadata": {
        "id": "yRpBqbj_vsGQ"
      },
      "source": [
        "# converting to date format\n",
        "df['Last Updated'] = pd.to_datetime(df['Last Updated'])"
      ],
      "execution_count": 28,
      "outputs": []
    },
    {
      "cell_type": "code",
      "metadata": {
        "id": "AcXz1S7VwRxU"
      },
      "source": [
        "df['Last Updated']"
      ],
      "execution_count": null,
      "outputs": []
    },
    {
      "cell_type": "markdown",
      "metadata": {
        "id": "68mW5iShw6GZ"
      },
      "source": [
        "## Converting app size to bytes"
      ]
    },
    {
      "cell_type": "code",
      "metadata": {
        "id": "mIAvZ-0sw5Ib"
      },
      "source": [
        "def convert_bytes(i):\n",
        "  if i.count('M')==1:\n",
        "    return float(i[:-1])*1024*1024\n",
        "  elif i.count('K')==1:\n",
        "    return float(i[:-1])*1024\n",
        "  else:\n",
        "    return 0\n",
        "    "
      ],
      "execution_count": 108,
      "outputs": []
    },
    {
      "cell_type": "code",
      "metadata": {
        "id": "QnYu4UME1gBq"
      },
      "source": [
        "df['Size']=df.Size.apply(convert_bytes)"
      ],
      "execution_count": 110,
      "outputs": []
    },
    {
      "cell_type": "code",
      "metadata": {
        "id": "pvTF6yry3Jub",
        "colab": {
          "base_uri": "https://localhost:8080/"
        },
        "outputId": "152f1741-5356-4bc8-bf96-f198ae2152bd"
      },
      "source": [
        "df.Size"
      ],
      "execution_count": 111,
      "outputs": [
        {
          "output_type": "execute_result",
          "data": {
            "text/plain": [
              "0        19922944.0\n",
              "1        14680064.0\n",
              "2         9122611.2\n",
              "3        26214400.0\n",
              "4         2936012.8\n",
              "            ...    \n",
              "10836    55574528.0\n",
              "10837     3774873.6\n",
              "10838     9961472.0\n",
              "10839           0.0\n",
              "10840    19922944.0\n",
              "Name: Size, Length: 10841, dtype: float64"
            ]
          },
          "metadata": {},
          "execution_count": 111
        }
      ]
    },
    {
      "cell_type": "markdown",
      "metadata": {
        "id": "qIsjKTg-9Y1i"
      },
      "source": [
        "# Finding the correlation between data"
      ]
    },
    {
      "cell_type": "code",
      "metadata": {
        "id": "DSC96HF7RVjM",
        "colab": {
          "base_uri": "https://localhost:8080/",
          "height": 204
        },
        "outputId": "d9f22996-825c-4e84-ff8d-d8621cb838e2"
      },
      "source": [
        "df.corr()"
      ],
      "execution_count": 112,
      "outputs": [
        {
          "output_type": "execute_result",
          "data": {
            "text/html": [
              "<div>\n",
              "<style scoped>\n",
              "    .dataframe tbody tr th:only-of-type {\n",
              "        vertical-align: middle;\n",
              "    }\n",
              "\n",
              "    .dataframe tbody tr th {\n",
              "        vertical-align: top;\n",
              "    }\n",
              "\n",
              "    .dataframe thead th {\n",
              "        text-align: right;\n",
              "    }\n",
              "</style>\n",
              "<table border=\"1\" class=\"dataframe\">\n",
              "  <thead>\n",
              "    <tr style=\"text-align: right;\">\n",
              "      <th></th>\n",
              "      <th>Rating</th>\n",
              "      <th>Reviews</th>\n",
              "      <th>Size</th>\n",
              "      <th>Installs</th>\n",
              "      <th>Price</th>\n",
              "    </tr>\n",
              "  </thead>\n",
              "  <tbody>\n",
              "    <tr>\n",
              "      <th>Rating</th>\n",
              "      <td>1.000000</td>\n",
              "      <td>0.068147</td>\n",
              "      <td>0.046210</td>\n",
              "      <td>0.051393</td>\n",
              "      <td>-0.021851</td>\n",
              "    </tr>\n",
              "    <tr>\n",
              "      <th>Reviews</th>\n",
              "      <td>0.068147</td>\n",
              "      <td>1.000000</td>\n",
              "      <td>0.065523</td>\n",
              "      <td>0.643123</td>\n",
              "      <td>-0.009666</td>\n",
              "    </tr>\n",
              "    <tr>\n",
              "      <th>Size</th>\n",
              "      <td>0.046210</td>\n",
              "      <td>0.065523</td>\n",
              "      <td>1.000000</td>\n",
              "      <td>-0.003339</td>\n",
              "      <td>-0.013533</td>\n",
              "    </tr>\n",
              "    <tr>\n",
              "      <th>Installs</th>\n",
              "      <td>0.051393</td>\n",
              "      <td>0.643123</td>\n",
              "      <td>-0.003339</td>\n",
              "      <td>1.000000</td>\n",
              "      <td>-0.011688</td>\n",
              "    </tr>\n",
              "    <tr>\n",
              "      <th>Price</th>\n",
              "      <td>-0.021851</td>\n",
              "      <td>-0.009666</td>\n",
              "      <td>-0.013533</td>\n",
              "      <td>-0.011688</td>\n",
              "      <td>1.000000</td>\n",
              "    </tr>\n",
              "  </tbody>\n",
              "</table>\n",
              "</div>"
            ],
            "text/plain": [
              "            Rating   Reviews      Size  Installs     Price\n",
              "Rating    1.000000  0.068147  0.046210  0.051393 -0.021851\n",
              "Reviews   0.068147  1.000000  0.065523  0.643123 -0.009666\n",
              "Size      0.046210  0.065523  1.000000 -0.003339 -0.013533\n",
              "Installs  0.051393  0.643123 -0.003339  1.000000 -0.011688\n",
              "Price    -0.021851 -0.009666 -0.013533 -0.011688  1.000000"
            ]
          },
          "metadata": {},
          "execution_count": 112
        }
      ]
    },
    {
      "cell_type": "code",
      "metadata": {
        "colab": {
          "base_uri": "https://localhost:8080/",
          "height": 511
        },
        "id": "OfAWGBjK73ve",
        "outputId": "3975e41a-90a0-44b9-eab4-b35c9ec09409"
      },
      "source": [
        "sns.heatmap(df.corr())"
      ],
      "execution_count": 113,
      "outputs": [
        {
          "output_type": "execute_result",
          "data": {
            "text/plain": [
              "<matplotlib.axes._subplots.AxesSubplot at 0x7f2bdf480c50>"
            ]
          },
          "metadata": {},
          "execution_count": 113
        },
        {
          "output_type": "display_data",
          "data": {
            "image/png": "[encoded data removed]",
            "text/plain": [
              "<Figure size 1800x595.44 with 2 Axes>"
            ]
          },
          "metadata": {}
        }
      ]
    },
    {
      "cell_type": "markdown",
      "metadata": {
        "id": "GgBRrvpxlHq2"
      },
      "source": [
        "\n",
        "### *   Sentiment analysis is basically the process of determining the attitude or the emotion of the writer, i.e., whether it is positive or negative or neutral.\n",
        "### *   Polarity, also known as orientation is he emotion expressed in the sentence. It can be positive, neagtive or neutral.\n",
        "### *   Subjectivity is when text is an explanatory article which must be analysed in context\n",
        "\n",
        "\n"
      ]
    },
    {
      "cell_type": "code",
      "metadata": {
        "colab": {
          "base_uri": "https://localhost:8080/",
          "height": 142
        },
        "id": "hxxlFQXw6zhQ",
        "outputId": "183036b9-ef42-45c8-812f-056ba8fa61d8"
      },
      "source": [
        "df_1.head(3)"
      ],
      "execution_count": 38,
      "outputs": [
        {
          "output_type": "execute_result",
          "data": {
            "text/html": [
              "<div>\n",
              "<style scoped>\n",
              "    .dataframe tbody tr th:only-of-type {\n",
              "        vertical-align: middle;\n",
              "    }\n",
              "\n",
              "    .dataframe tbody tr th {\n",
              "        vertical-align: top;\n",
              "    }\n",
              "\n",
              "    .dataframe thead th {\n",
              "        text-align: right;\n",
              "    }\n",
              "</style>\n",
              "<table border=\"1\" class=\"dataframe\">\n",
              "  <thead>\n",
              "    <tr style=\"text-align: right;\">\n",
              "      <th></th>\n",
              "      <th>App</th>\n",
              "      <th>Translated_Review</th>\n",
              "      <th>Sentiment</th>\n",
              "      <th>Sentiment_Polarity</th>\n",
              "      <th>Sentiment_Subjectivity</th>\n",
              "    </tr>\n",
              "  </thead>\n",
              "  <tbody>\n",
              "    <tr>\n",
              "      <th>0</th>\n",
              "      <td>10 Best Foods for You</td>\n",
              "      <td>I like eat delicious food. That's I'm cooking ...</td>\n",
              "      <td>Positive</td>\n",
              "      <td>1.00</td>\n",
              "      <td>0.533333</td>\n",
              "    </tr>\n",
              "    <tr>\n",
              "      <th>1</th>\n",
              "      <td>10 Best Foods for You</td>\n",
              "      <td>This help eating healthy exercise regular basis</td>\n",
              "      <td>Positive</td>\n",
              "      <td>0.25</td>\n",
              "      <td>0.288462</td>\n",
              "    </tr>\n",
              "    <tr>\n",
              "      <th>2</th>\n",
              "      <td>10 Best Foods for You</td>\n",
              "      <td>NaN</td>\n",
              "      <td>NaN</td>\n",
              "      <td>NaN</td>\n",
              "      <td>NaN</td>\n",
              "    </tr>\n",
              "  </tbody>\n",
              "</table>\n",
              "</div>"
            ],
            "text/plain": [
              "                     App  ... Sentiment_Subjectivity\n",
              "0  10 Best Foods for You  ...               0.533333\n",
              "1  10 Best Foods for You  ...               0.288462\n",
              "2  10 Best Foods for You  ...                    NaN\n",
              "\n",
              "[3 rows x 5 columns]"
            ]
          },
          "metadata": {},
          "execution_count": 38
        }
      ]
    },
    {
      "cell_type": "code",
      "metadata": {
        "id": "cN7aDG2FUnX6"
      },
      "source": [
        "df_2= df_1[~df_1.Sentiment_Polarity.isna()]"
      ],
      "execution_count": 39,
      "outputs": []
    },
    {
      "cell_type": "code",
      "metadata": {
        "colab": {
          "base_uri": "https://localhost:8080/"
        },
        "id": "eQVEldANhy8d",
        "outputId": "8bb78392-d47f-453f-f086-50298345a3b0"
      },
      "source": [
        "df_2.shape"
      ],
      "execution_count": 40,
      "outputs": [
        {
          "output_type": "execute_result",
          "data": {
            "text/plain": [
              "(37432, 5)"
            ]
          },
          "metadata": {},
          "execution_count": 40
        }
      ]
    },
    {
      "cell_type": "markdown",
      "metadata": {
        "id": "Byv4eq5p8CSl"
      },
      "source": [
        "## Most reviewed App are:"
      ]
    },
    {
      "cell_type": "code",
      "metadata": {
        "colab": {
          "base_uri": "https://localhost:8080/"
        },
        "id": "2RanVQOpQ0VK",
        "outputId": "b626dded-6c8c-4165-84c9-6258690c33fd"
      },
      "source": [
        " df_2.App.value_counts()[0:10]"
      ],
      "execution_count": 41,
      "outputs": [
        {
          "output_type": "execute_result",
          "data": {
            "text/plain": [
              "Bowmasters                        312\n",
              "Angry Birds Classic               273\n",
              "Helix Jump                        273\n",
              "Calorie Counter - MyFitnessPal    255\n",
              "Candy Crush Saga                  240\n",
              "Duolingo: Learn Languages Free    240\n",
              "Garena Free Fire                  222\n",
              "8 Ball Pool                       219\n",
              "Calorie Counter - Macros          200\n",
              "10 Best Foods for You             194\n",
              "Name: App, dtype: int64"
            ]
          },
          "metadata": {},
          "execution_count": 41
        }
      ]
    },
    {
      "cell_type": "code",
      "metadata": {
        "id": "Odk5n9YZojpQ"
      },
      "source": [
        "review_count= df_2.groupby('App')['App'].count().sort_values(ascending=False)"
      ],
      "execution_count": 42,
      "outputs": []
    },
    {
      "cell_type": "code",
      "metadata": {
        "colab": {
          "base_uri": "https://localhost:8080/",
          "height": 405
        },
        "id": "apZFsinTp7aC",
        "outputId": "9988c7af-8a2f-464f-8188-3107f8d29b25"
      },
      "source": [
        "review_count[:10].plot.bar(rot=0)"
      ],
      "execution_count": 43,
      "outputs": [
        {
          "output_type": "execute_result",
          "data": {
            "text/plain": [
              "<matplotlib.axes._subplots.AxesSubplot at 0x7f2be2f432d0>"
            ]
          },
          "metadata": {},
          "execution_count": 43
        },
        {
          "output_type": "display_data",
          "data": {
            "image/png": "[encoded data removed]",
            "text/plain": [
              "<Figure size 1440x432 with 1 Axes>"
            ]
          },
          "metadata": {
            "needs_background": "light"
          }
        }
      ]
    },
    {
      "cell_type": "markdown",
      "metadata": {
        "id": "5nx0jSbx7gGw"
      },
      "source": [
        "Let's take a look of Most 8 reviewed App's Sentiment_Polarity and \tSentiment_Subjectivity"
      ]
    },
    {
      "cell_type": "code",
      "metadata": {
        "id": "Wu1kPN1GzBAG"
      },
      "source": [
        "df_3= df_2[(df_2.App=='Bowmasters') | (df_2.App=='Helix Jump') | (df_2.App=='Angry Birds Classic') | (df_2.App=='Calorie Counter - MyFitnessPal') | (df_2.App=='Duolingo: Learn Languages Free') | (df_2.App=='Candy Crush Saga') | (df_2.App=='Garena Free Fire') | (df_2.App=='8 Ball Pool')]"
      ],
      "execution_count": 44,
      "outputs": []
    },
    {
      "cell_type": "code",
      "metadata": {
        "id": "pkT82fmZWTmc"
      },
      "source": [
        "# Most reviewed app total sentiment\n",
        "sentiment= df_3.groupby('App').agg({'Sentiment_Polarity':'sum'}).sort_values(by='Sentiment_Polarity',ascending=False).reset_index()"
      ],
      "execution_count": 45,
      "outputs": []
    },
    {
      "cell_type": "code",
      "metadata": {
        "colab": {
          "base_uri": "https://localhost:8080/",
          "height": 297
        },
        "id": "OrplWLLTTUhO",
        "outputId": "e7abe986-498e-4477-e463-f6507f3593fa"
      },
      "source": [
        "sentiment"
      ],
      "execution_count": 70,
      "outputs": [
        {
          "output_type": "execute_result",
          "data": {
            "text/html": [
              "<div>\n",
              "<style scoped>\n",
              "    .dataframe tbody tr th:only-of-type {\n",
              "        vertical-align: middle;\n",
              "    }\n",
              "\n",
              "    .dataframe tbody tr th {\n",
              "        vertical-align: top;\n",
              "    }\n",
              "\n",
              "    .dataframe thead th {\n",
              "        text-align: right;\n",
              "    }\n",
              "</style>\n",
              "<table border=\"1\" class=\"dataframe\">\n",
              "  <thead>\n",
              "    <tr style=\"text-align: right;\">\n",
              "      <th></th>\n",
              "      <th>App</th>\n",
              "      <th>Sentiment_Polarity</th>\n",
              "    </tr>\n",
              "  </thead>\n",
              "  <tbody>\n",
              "    <tr>\n",
              "      <th>0</th>\n",
              "      <td>Calorie Counter - MyFitnessPal</td>\n",
              "      <td>54.996746</td>\n",
              "    </tr>\n",
              "    <tr>\n",
              "      <th>1</th>\n",
              "      <td>Duolingo: Learn Languages Free</td>\n",
              "      <td>48.097857</td>\n",
              "    </tr>\n",
              "    <tr>\n",
              "      <th>2</th>\n",
              "      <td>Helix Jump</td>\n",
              "      <td>27.208676</td>\n",
              "    </tr>\n",
              "    <tr>\n",
              "      <th>3</th>\n",
              "      <td>Bowmasters</td>\n",
              "      <td>19.161620</td>\n",
              "    </tr>\n",
              "    <tr>\n",
              "      <th>4</th>\n",
              "      <td>Garena Free Fire</td>\n",
              "      <td>15.797047</td>\n",
              "    </tr>\n",
              "    <tr>\n",
              "      <th>5</th>\n",
              "      <td>Candy Crush Saga</td>\n",
              "      <td>7.456288</td>\n",
              "    </tr>\n",
              "    <tr>\n",
              "      <th>6</th>\n",
              "      <td>8 Ball Pool</td>\n",
              "      <td>0.274190</td>\n",
              "    </tr>\n",
              "    <tr>\n",
              "      <th>7</th>\n",
              "      <td>Angry Birds Classic</td>\n",
              "      <td>-2.057709</td>\n",
              "    </tr>\n",
              "  </tbody>\n",
              "</table>\n",
              "</div>"
            ],
            "text/plain": [
              "                              App  Sentiment_Polarity\n",
              "0  Calorie Counter - MyFitnessPal           54.996746\n",
              "1  Duolingo: Learn Languages Free           48.097857\n",
              "2                      Helix Jump           27.208676\n",
              "3                      Bowmasters           19.161620\n",
              "4                Garena Free Fire           15.797047\n",
              "5                Candy Crush Saga            7.456288\n",
              "6                     8 Ball Pool            0.274190\n",
              "7             Angry Birds Classic           -2.057709"
            ]
          },
          "metadata": {},
          "execution_count": 70
        }
      ]
    },
    {
      "cell_type": "code",
      "metadata": {
        "colab": {
          "base_uri": "https://localhost:8080/",
          "height": 427
        },
        "id": "LRYdcP53YP9I",
        "outputId": "45cce9e5-4a31-4cde-9780-05bbb623d6c3"
      },
      "source": [
        "sns.set_theme(style=\"whitegrid\")\n",
        "ax = sns.barplot(x=\"App\", y=\"Sentiment_Polarity\", data=sentiment)\n",
        "ax.set_title('Most reviewed app total sentiment')"
      ],
      "execution_count": 47,
      "outputs": [
        {
          "output_type": "execute_result",
          "data": {
            "text/plain": [
              "Text(0.5, 1.0, 'Most reviewed app total sentiment')"
            ]
          },
          "metadata": {},
          "execution_count": 47
        },
        {
          "output_type": "display_data",
          "data": {
            "image/png": "[encoded data removed]",
            "text/plain": [
              "<Figure size 1440x432 with 1 Axes>"
            ]
          },
          "metadata": {}
        }
      ]
    },
    {
      "cell_type": "markdown",
      "metadata": {
        "id": "dvcAS8daah6D"
      },
      "source": [
        "Let's Visualise the Sentiment_Polarity and \tSentiment_Subjectivity of top reviwed app"
      ]
    },
    {
      "cell_type": "code",
      "metadata": {
        "id": "Hh9hDX7r3AF_"
      },
      "source": [
        "color_dict = dict({'Bowmasters':'brown',\n",
        "                  'Helix Jump':'green',\n",
        "                  'Angry Birds Classic': 'orange',\n",
        "                  'Calorie Counter - MyFitnessPal': 'red',\n",
        "                   'Duolingo: Learn Languages Free': 'dodgerblue',\n",
        "                   'Candy Crush Saga':'yellow',\n",
        "                   'Garena Free Fire':'chocolate',\n",
        "                   '8 Ball Pool':'limegreen'})"
      ],
      "execution_count": 157,
      "outputs": []
    },
    {
      "cell_type": "code",
      "metadata": {
        "colab": {
          "base_uri": "https://localhost:8080/",
          "height": 438
        },
        "id": "kF2mlQmb4Tbv",
        "outputId": "1ff02d6e-04ca-4bac-a290-542ee4946c87"
      },
      "source": [
        "sns.set_theme(style=\"whitegrid\")\n",
        "\n",
        "f, ax = plt.subplots(figsize=(20.5, 6.5))\n",
        "sns.despine(f, left=True, bottom=True)\n",
        "sns.scatterplot(x=\"Sentiment_Polarity\", y=\"Sentiment_Subjectivity\",\n",
        "                sizes=(1, 8), linewidth=0, hue='App',\n",
        "                data=df_3, ax=ax,palette=color_dict,legend='full')\n"
      ],
      "execution_count": 158,
      "outputs": [
        {
          "output_type": "execute_result",
          "data": {
            "text/plain": [
              "<matplotlib.axes._subplots.AxesSubplot at 0x7f6f2f776c90>"
            ]
          },
          "metadata": {},
          "execution_count": 158
        },
        {
          "output_type": "display_data",
          "data": {
            "image/png": "[encoded data removed]",
            "text/plain": [
              "<Figure size 1476x468 with 1 Axes>"
            ]
          },
          "metadata": {}
        }
      ]
    },
    {
      "cell_type": "code",
      "metadata": {
        "colab": {
          "base_uri": "https://localhost:8080/",
          "height": 437
        },
        "id": "9rZawuVcCxOp",
        "outputId": "209016f3-71c0-4324-bc3d-768b229e8471"
      },
      "source": [
        "# Jointplot\n",
        "sns.despine(f, left=True, bottom=True)\n",
        "g= sns.jointplot(x=\"Sentiment_Polarity\", y=\"Sentiment_Subjectivity\",\n",
        "                sizes=(1, 8), linewidth=0, hue='App',\n",
        "                data=df_3, ax=ax,palette=color_dict,legend='full')\n"
      ],
      "execution_count": 94,
      "outputs": [
        {
          "output_type": "display_data",
          "data": {
            "image/png": "[encoded data removed]",
            "text/plain": [
              "<Figure size 432x432 with 3 Axes>"
            ]
          },
          "metadata": {}
        }
      ]
    },
    {
      "cell_type": "code",
      "metadata": {
        "colab": {
          "base_uri": "https://localhost:8080/",
          "height": 297
        },
        "id": "kiTrjbLarPOr",
        "outputId": "11c13007-86ab-4c1d-bb7f-ad7e77978efb"
      },
      "source": [
        "df_2.describe()"
      ],
      "execution_count": 41,
      "outputs": [
        {
          "output_type": "execute_result",
          "data": {
            "text/html": [
              "<div>\n",
              "<style scoped>\n",
              "    .dataframe tbody tr th:only-of-type {\n",
              "        vertical-align: middle;\n",
              "    }\n",
              "\n",
              "    .dataframe tbody tr th {\n",
              "        vertical-align: top;\n",
              "    }\n",
              "\n",
              "    .dataframe thead th {\n",
              "        text-align: right;\n",
              "    }\n",
              "</style>\n",
              "<table border=\"1\" class=\"dataframe\">\n",
              "  <thead>\n",
              "    <tr style=\"text-align: right;\">\n",
              "      <th></th>\n",
              "      <th>Sentiment_Polarity</th>\n",
              "      <th>Sentiment_Subjectivity</th>\n",
              "    </tr>\n",
              "  </thead>\n",
              "  <tbody>\n",
              "    <tr>\n",
              "      <th>count</th>\n",
              "      <td>37432.000000</td>\n",
              "      <td>37432.000000</td>\n",
              "    </tr>\n",
              "    <tr>\n",
              "      <th>mean</th>\n",
              "      <td>0.182146</td>\n",
              "      <td>0.492704</td>\n",
              "    </tr>\n",
              "    <tr>\n",
              "      <th>std</th>\n",
              "      <td>0.351301</td>\n",
              "      <td>0.259949</td>\n",
              "    </tr>\n",
              "    <tr>\n",
              "      <th>min</th>\n",
              "      <td>-1.000000</td>\n",
              "      <td>0.000000</td>\n",
              "    </tr>\n",
              "    <tr>\n",
              "      <th>25%</th>\n",
              "      <td>0.000000</td>\n",
              "      <td>0.357143</td>\n",
              "    </tr>\n",
              "    <tr>\n",
              "      <th>50%</th>\n",
              "      <td>0.150000</td>\n",
              "      <td>0.514286</td>\n",
              "    </tr>\n",
              "    <tr>\n",
              "      <th>75%</th>\n",
              "      <td>0.400000</td>\n",
              "      <td>0.650000</td>\n",
              "    </tr>\n",
              "    <tr>\n",
              "      <th>max</th>\n",
              "      <td>1.000000</td>\n",
              "      <td>1.000000</td>\n",
              "    </tr>\n",
              "  </tbody>\n",
              "</table>\n",
              "</div>"
            ],
            "text/plain": [
              "       Sentiment_Polarity  Sentiment_Subjectivity\n",
              "count        37432.000000            37432.000000\n",
              "mean             0.182146                0.492704\n",
              "std              0.351301                0.259949\n",
              "min             -1.000000                0.000000\n",
              "25%              0.000000                0.357143\n",
              "50%              0.150000                0.514286\n",
              "75%              0.400000                0.650000\n",
              "max              1.000000                1.000000"
            ]
          },
          "metadata": {},
          "execution_count": 41
        }
      ]
    },
    {
      "cell_type": "code",
      "metadata": {
        "id": "oVkz1YqAdIMX"
      },
      "source": [
        "df_nonnull= df[(~df.Rating.isna()) & (~df.Reviews.isna())]"
      ],
      "execution_count": 130,
      "outputs": []
    },
    {
      "cell_type": "code",
      "metadata": {
        "id": "0n0EbYoJEuyB"
      },
      "source": [
        "user_review =df_2.groupby('App').agg({'Sentiment_Polarity':'sum','Sentiment_Subjectivity':'mean'})"
      ],
      "execution_count": 76,
      "outputs": []
    },
    {
      "cell_type": "code",
      "metadata": {
        "id": "HLi31cU-UqFz"
      },
      "source": [
        "merged_df = pd.merge(df_nonnull, user_review, how='inner',left_on='App',right_on='App') "
      ],
      "execution_count": 147,
      "outputs": []
    },
    {
      "cell_type": "code",
      "metadata": {
        "colab": {
          "base_uri": "https://localhost:8080/",
          "height": 346
        },
        "id": "i0kuxsVYWGZu",
        "outputId": "865cdfbb-edda-4238-e337-bc60809c934c"
      },
      "source": [
        "merged_df.head(4)"
      ],
      "execution_count": 148,
      "outputs": [
        {
          "output_type": "execute_result",
          "data": {
            "text/html": [
              "<div>\n",
              "<style scoped>\n",
              "    .dataframe tbody tr th:only-of-type {\n",
              "        vertical-align: middle;\n",
              "    }\n",
              "\n",
              "    .dataframe tbody tr th {\n",
              "        vertical-align: top;\n",
              "    }\n",
              "\n",
              "    .dataframe thead th {\n",
              "        text-align: right;\n",
              "    }\n",
              "</style>\n",
              "<table border=\"1\" class=\"dataframe\">\n",
              "  <thead>\n",
              "    <tr style=\"text-align: right;\">\n",
              "      <th></th>\n",
              "      <th>App</th>\n",
              "      <th>Category</th>\n",
              "      <th>Rating</th>\n",
              "      <th>Reviews</th>\n",
              "      <th>Size</th>\n",
              "      <th>Installs</th>\n",
              "      <th>Type</th>\n",
              "      <th>Price</th>\n",
              "      <th>Content Rating</th>\n",
              "      <th>Genres</th>\n",
              "      <th>Last Updated</th>\n",
              "      <th>Current Ver</th>\n",
              "      <th>Android Ver</th>\n",
              "      <th>Sentiment_Polarity</th>\n",
              "      <th>Sentiment_Subjectivity</th>\n",
              "    </tr>\n",
              "  </thead>\n",
              "  <tbody>\n",
              "    <tr>\n",
              "      <th>0</th>\n",
              "      <td>Coloring book moana</td>\n",
              "      <td>ART_AND_DESIGN</td>\n",
              "      <td>3.9</td>\n",
              "      <td>967</td>\n",
              "      <td>14680064.0</td>\n",
              "      <td>500000</td>\n",
              "      <td>Free</td>\n",
              "      <td>0.0</td>\n",
              "      <td>Everyone</td>\n",
              "      <td>Art &amp; Design;Pretend Play</td>\n",
              "      <td>January 15, 2018</td>\n",
              "      <td>2.0.0</td>\n",
              "      <td>4.0.3 and up</td>\n",
              "      <td>6.716667</td>\n",
              "      <td>0.641540</td>\n",
              "    </tr>\n",
              "    <tr>\n",
              "      <th>1</th>\n",
              "      <td>Coloring book moana</td>\n",
              "      <td>FAMILY</td>\n",
              "      <td>3.9</td>\n",
              "      <td>974</td>\n",
              "      <td>14680064.0</td>\n",
              "      <td>500000</td>\n",
              "      <td>Free</td>\n",
              "      <td>0.0</td>\n",
              "      <td>Everyone</td>\n",
              "      <td>Art &amp; Design;Pretend Play</td>\n",
              "      <td>January 15, 2018</td>\n",
              "      <td>2.0.0</td>\n",
              "      <td>4.0.3 and up</td>\n",
              "      <td>6.716667</td>\n",
              "      <td>0.641540</td>\n",
              "    </tr>\n",
              "    <tr>\n",
              "      <th>2</th>\n",
              "      <td>Garden Coloring Book</td>\n",
              "      <td>ART_AND_DESIGN</td>\n",
              "      <td>4.4</td>\n",
              "      <td>13791</td>\n",
              "      <td>34603008.0</td>\n",
              "      <td>1000000</td>\n",
              "      <td>Free</td>\n",
              "      <td>0.0</td>\n",
              "      <td>Everyone</td>\n",
              "      <td>Art &amp; Design</td>\n",
              "      <td>September 20, 2017</td>\n",
              "      <td>2.9.2</td>\n",
              "      <td>3.0 and up</td>\n",
              "      <td>24.163460</td>\n",
              "      <td>0.523447</td>\n",
              "    </tr>\n",
              "    <tr>\n",
              "      <th>3</th>\n",
              "      <td>FlipaClip - Cartoon animation</td>\n",
              "      <td>ART_AND_DESIGN</td>\n",
              "      <td>4.3</td>\n",
              "      <td>194216</td>\n",
              "      <td>40894464.0</td>\n",
              "      <td>5000000</td>\n",
              "      <td>Free</td>\n",
              "      <td>0.0</td>\n",
              "      <td>Everyone</td>\n",
              "      <td>Art &amp; Design</td>\n",
              "      <td>August 3, 2018</td>\n",
              "      <td>2.2.5</td>\n",
              "      <td>4.0.3 and up</td>\n",
              "      <td>1.650595</td>\n",
              "      <td>0.679226</td>\n",
              "    </tr>\n",
              "  </tbody>\n",
              "</table>\n",
              "</div>"
            ],
            "text/plain": [
              "                             App  ... Sentiment_Subjectivity\n",
              "0            Coloring book moana  ...               0.641540\n",
              "1            Coloring book moana  ...               0.641540\n",
              "2           Garden Coloring Book  ...               0.523447\n",
              "3  FlipaClip - Cartoon animation  ...               0.679226\n",
              "\n",
              "[4 rows x 15 columns]"
            ]
          },
          "metadata": {},
          "execution_count": 148
        }
      ]
    },
    {
      "cell_type": "code",
      "metadata": {
        "colab": {
          "base_uri": "https://localhost:8080/",
          "height": 297
        },
        "id": "AnKMPeGTekQB",
        "outputId": "dca7938c-bc28-44ba-840e-2be825e4631d"
      },
      "source": [
        "merged_df.describe()"
      ],
      "execution_count": 149,
      "outputs": [
        {
          "output_type": "execute_result",
          "data": {
            "text/html": [
              "<div>\n",
              "<style scoped>\n",
              "    .dataframe tbody tr th:only-of-type {\n",
              "        vertical-align: middle;\n",
              "    }\n",
              "\n",
              "    .dataframe tbody tr th {\n",
              "        vertical-align: top;\n",
              "    }\n",
              "\n",
              "    .dataframe thead th {\n",
              "        text-align: right;\n",
              "    }\n",
              "</style>\n",
              "<table border=\"1\" class=\"dataframe\">\n",
              "  <thead>\n",
              "    <tr style=\"text-align: right;\">\n",
              "      <th></th>\n",
              "      <th>Rating</th>\n",
              "      <th>Reviews</th>\n",
              "      <th>Size</th>\n",
              "      <th>Installs</th>\n",
              "      <th>Price</th>\n",
              "      <th>Sentiment_Polarity</th>\n",
              "      <th>Sentiment_Subjectivity</th>\n",
              "    </tr>\n",
              "  </thead>\n",
              "  <tbody>\n",
              "    <tr>\n",
              "      <th>count</th>\n",
              "      <td>1228.000000</td>\n",
              "      <td>1.228000e+03</td>\n",
              "      <td>1.228000e+03</td>\n",
              "      <td>1.228000e+03</td>\n",
              "      <td>1228.000000</td>\n",
              "      <td>1228.000000</td>\n",
              "      <td>1228.000000</td>\n",
              "    </tr>\n",
              "    <tr>\n",
              "      <th>mean</th>\n",
              "      <td>4.298697</td>\n",
              "      <td>1.322120e+06</td>\n",
              "      <td>1.983619e+07</td>\n",
              "      <td>4.649488e+07</td>\n",
              "      <td>0.093526</td>\n",
              "      <td>9.288623</td>\n",
              "      <td>0.493101</td>\n",
              "    </tr>\n",
              "    <tr>\n",
              "      <th>std</th>\n",
              "      <td>0.300689</td>\n",
              "      <td>4.937886e+06</td>\n",
              "      <td>2.591088e+07</td>\n",
              "      <td>1.500214e+08</td>\n",
              "      <td>1.146008</td>\n",
              "      <td>10.619997</td>\n",
              "      <td>0.079056</td>\n",
              "    </tr>\n",
              "    <tr>\n",
              "      <th>min</th>\n",
              "      <td>2.600000</td>\n",
              "      <td>4.600000e+01</td>\n",
              "      <td>0.000000e+00</td>\n",
              "      <td>1.000000e+03</td>\n",
              "      <td>0.000000</td>\n",
              "      <td>-9.726559</td>\n",
              "      <td>0.000000</td>\n",
              "    </tr>\n",
              "    <tr>\n",
              "      <th>25%</th>\n",
              "      <td>4.200000</td>\n",
              "      <td>1.263275e+04</td>\n",
              "      <td>0.000000e+00</td>\n",
              "      <td>1.000000e+06</td>\n",
              "      <td>0.000000</td>\n",
              "      <td>2.225000</td>\n",
              "      <td>0.458285</td>\n",
              "    </tr>\n",
              "    <tr>\n",
              "      <th>50%</th>\n",
              "      <td>4.300000</td>\n",
              "      <td>6.619400e+04</td>\n",
              "      <td>8.912896e+06</td>\n",
              "      <td>5.000000e+06</td>\n",
              "      <td>0.000000</td>\n",
              "      <td>7.001728</td>\n",
              "      <td>0.498327</td>\n",
              "    </tr>\n",
              "    <tr>\n",
              "      <th>75%</th>\n",
              "      <td>4.500000</td>\n",
              "      <td>5.063545e+05</td>\n",
              "      <td>2.831155e+07</td>\n",
              "      <td>1.000000e+07</td>\n",
              "      <td>0.000000</td>\n",
              "      <td>12.888005</td>\n",
              "      <td>0.534886</td>\n",
              "    </tr>\n",
              "    <tr>\n",
              "      <th>max</th>\n",
              "      <td>4.900000</td>\n",
              "      <td>7.815831e+07</td>\n",
              "      <td>1.038090e+08</td>\n",
              "      <td>1.000000e+09</td>\n",
              "      <td>29.990000</td>\n",
              "      <td>91.322167</td>\n",
              "      <td>0.916667</td>\n",
              "    </tr>\n",
              "  </tbody>\n",
              "</table>\n",
              "</div>"
            ],
            "text/plain": [
              "            Rating       Reviews  ...  Sentiment_Polarity  Sentiment_Subjectivity\n",
              "count  1228.000000  1.228000e+03  ...         1228.000000             1228.000000\n",
              "mean      4.298697  1.322120e+06  ...            9.288623                0.493101\n",
              "std       0.300689  4.937886e+06  ...           10.619997                0.079056\n",
              "min       2.600000  4.600000e+01  ...           -9.726559                0.000000\n",
              "25%       4.200000  1.263275e+04  ...            2.225000                0.458285\n",
              "50%       4.300000  6.619400e+04  ...            7.001728                0.498327\n",
              "75%       4.500000  5.063545e+05  ...           12.888005                0.534886\n",
              "max       4.900000  7.815831e+07  ...           91.322167                0.916667\n",
              "\n",
              "[8 rows x 7 columns]"
            ]
          },
          "metadata": {},
          "execution_count": 149
        }
      ]
    },
    {
      "cell_type": "code",
      "metadata": {
        "id": "6ouw68OWXXxQ"
      },
      "source": [
        "# keeping the rows which are above the mean of sentiment polarity, installs, reviews and which apps rating greater than 4 .\n",
        "mean_df= merged_df[(merged_IJ_df.Installs == 5.000000e+06) & (merged_IJ_df.Reviews>\t6.619400e+04) & (merged_IJ_df.Sentiment_Polarity>7.001728) &(merged_IJ_df.Rating>4)]"
      ],
      "execution_count": 157,
      "outputs": []
    },
    {
      "cell_type": "code",
      "metadata": {
        "colab": {
          "base_uri": "https://localhost:8080/",
          "height": 264
        },
        "id": "so_pgEy6fpDY",
        "outputId": "a333e1d1-282e-44cc-b8c7-9a4c1db2f0b5"
      },
      "source": [
        "mean_df.head(3)"
      ],
      "execution_count": 158,
      "outputs": [
        {
          "output_type": "execute_result",
          "data": {
            "text/html": [
              "<div>\n",
              "<style scoped>\n",
              "    .dataframe tbody tr th:only-of-type {\n",
              "        vertical-align: middle;\n",
              "    }\n",
              "\n",
              "    .dataframe tbody tr th {\n",
              "        vertical-align: top;\n",
              "    }\n",
              "\n",
              "    .dataframe thead th {\n",
              "        text-align: right;\n",
              "    }\n",
              "</style>\n",
              "<table border=\"1\" class=\"dataframe\">\n",
              "  <thead>\n",
              "    <tr style=\"text-align: right;\">\n",
              "      <th></th>\n",
              "      <th>App</th>\n",
              "      <th>Category</th>\n",
              "      <th>Rating</th>\n",
              "      <th>Reviews</th>\n",
              "      <th>Size</th>\n",
              "      <th>Installs</th>\n",
              "      <th>Type</th>\n",
              "      <th>Price</th>\n",
              "      <th>Content Rating</th>\n",
              "      <th>Genres</th>\n",
              "      <th>Last Updated</th>\n",
              "      <th>Current Ver</th>\n",
              "      <th>Android Ver</th>\n",
              "      <th>Sentiment_Polarity</th>\n",
              "      <th>Sentiment_Subjectivity</th>\n",
              "    </tr>\n",
              "  </thead>\n",
              "  <tbody>\n",
              "    <tr>\n",
              "      <th>32</th>\n",
              "      <td>AlReader -any text book reader</td>\n",
              "      <td>BOOKS_AND_REFERENCE</td>\n",
              "      <td>4.6</td>\n",
              "      <td>90468</td>\n",
              "      <td>6186598.4</td>\n",
              "      <td>5000000</td>\n",
              "      <td>Free</td>\n",
              "      <td>0.0</td>\n",
              "      <td>Everyone</td>\n",
              "      <td>Books &amp; Reference</td>\n",
              "      <td>May 27, 2018</td>\n",
              "      <td>1.911805270</td>\n",
              "      <td>2.3 and up</td>\n",
              "      <td>9.576496</td>\n",
              "      <td>0.412577</td>\n",
              "    </tr>\n",
              "    <tr>\n",
              "      <th>34</th>\n",
              "      <td>Ebook Reader</td>\n",
              "      <td>BOOKS_AND_REFERENCE</td>\n",
              "      <td>4.1</td>\n",
              "      <td>85842</td>\n",
              "      <td>38797312.0</td>\n",
              "      <td>5000000</td>\n",
              "      <td>Free</td>\n",
              "      <td>0.0</td>\n",
              "      <td>Everyone</td>\n",
              "      <td>Books &amp; Reference</td>\n",
              "      <td>June 25, 2018</td>\n",
              "      <td>5.0.6</td>\n",
              "      <td>4.0 and up</td>\n",
              "      <td>13.358767</td>\n",
              "      <td>0.581568</td>\n",
              "    </tr>\n",
              "    <tr>\n",
              "      <th>35</th>\n",
              "      <td>Ebook Reader</td>\n",
              "      <td>BOOKS_AND_REFERENCE</td>\n",
              "      <td>4.1</td>\n",
              "      <td>85842</td>\n",
              "      <td>38797312.0</td>\n",
              "      <td>5000000</td>\n",
              "      <td>Free</td>\n",
              "      <td>0.0</td>\n",
              "      <td>Everyone</td>\n",
              "      <td>Books &amp; Reference</td>\n",
              "      <td>June 25, 2018</td>\n",
              "      <td>5.0.6</td>\n",
              "      <td>4.0 and up</td>\n",
              "      <td>13.358767</td>\n",
              "      <td>0.581568</td>\n",
              "    </tr>\n",
              "  </tbody>\n",
              "</table>\n",
              "</div>"
            ],
            "text/plain": [
              "                               App  ... Sentiment_Subjectivity\n",
              "32  AlReader -any text book reader  ...               0.412577\n",
              "34                    Ebook Reader  ...               0.581568\n",
              "35                    Ebook Reader  ...               0.581568\n",
              "\n",
              "[3 rows x 15 columns]"
            ]
          },
          "metadata": {},
          "execution_count": 158
        }
      ]
    },
    {
      "cell_type": "code",
      "metadata": {
        "colab": {
          "base_uri": "https://localhost:8080/",
          "height": 855
        },
        "id": "lkx7fed8f9rD",
        "outputId": "2de4893a-19c5-4527-bb85-981ad760aecf"
      },
      "source": [
        "mean_df.groupby(['App','Category']).agg({'Rating':'mean','Size':'mean','Installs':'mean','Reviews':'mean','Sentiment_Polarity':'mean','Sentiment_Subjectivity':'mean'}).sort_values(by='Reviews',ascending=False)"
      ],
      "execution_count": 166,
      "outputs": [
        {
          "output_type": "execute_result",
          "data": {
            "text/html": [
              "<div>\n",
              "<style scoped>\n",
              "    .dataframe tbody tr th:only-of-type {\n",
              "        vertical-align: middle;\n",
              "    }\n",
              "\n",
              "    .dataframe tbody tr th {\n",
              "        vertical-align: top;\n",
              "    }\n",
              "\n",
              "    .dataframe thead th {\n",
              "        text-align: right;\n",
              "    }\n",
              "</style>\n",
              "<table border=\"1\" class=\"dataframe\">\n",
              "  <thead>\n",
              "    <tr style=\"text-align: right;\">\n",
              "      <th></th>\n",
              "      <th></th>\n",
              "      <th>Rating</th>\n",
              "      <th>Size</th>\n",
              "      <th>Installs</th>\n",
              "      <th>Reviews</th>\n",
              "      <th>Sentiment_Polarity</th>\n",
              "      <th>Sentiment_Subjectivity</th>\n",
              "    </tr>\n",
              "    <tr>\n",
              "      <th>App</th>\n",
              "      <th>Category</th>\n",
              "      <th></th>\n",
              "      <th></th>\n",
              "      <th></th>\n",
              "      <th></th>\n",
              "      <th></th>\n",
              "      <th></th>\n",
              "    </tr>\n",
              "  </thead>\n",
              "  <tbody>\n",
              "    <tr>\n",
              "      <th>DRAGON BALL LEGENDS</th>\n",
              "      <th>GAME</th>\n",
              "      <td>4.6</td>\n",
              "      <td>50331648.0</td>\n",
              "      <td>5000000</td>\n",
              "      <td>338080.000000</td>\n",
              "      <td>16.624740</td>\n",
              "      <td>0.519107</td>\n",
              "    </tr>\n",
              "    <tr>\n",
              "      <th>G Cloud Backup</th>\n",
              "      <th>PRODUCTIVITY</th>\n",
              "      <td>4.6</td>\n",
              "      <td>0.0</td>\n",
              "      <td>5000000</td>\n",
              "      <td>267115.500000</td>\n",
              "      <td>8.241567</td>\n",
              "      <td>0.573890</td>\n",
              "    </tr>\n",
              "    <tr>\n",
              "      <th>Goal Live Scores</th>\n",
              "      <th>SPORTS</th>\n",
              "      <td>4.4</td>\n",
              "      <td>36700160.0</td>\n",
              "      <td>5000000</td>\n",
              "      <td>232423.000000</td>\n",
              "      <td>7.077162</td>\n",
              "      <td>0.513837</td>\n",
              "    </tr>\n",
              "    <tr>\n",
              "      <th>Hide Something - Photo, Video</th>\n",
              "      <th>SOCIAL</th>\n",
              "      <td>4.6</td>\n",
              "      <td>5557452.8</td>\n",
              "      <td>5000000</td>\n",
              "      <td>225103.000000</td>\n",
              "      <td>7.221307</td>\n",
              "      <td>0.512799</td>\n",
              "    </tr>\n",
              "    <tr>\n",
              "      <th>Fabulous: Motivate Me! Meditate, Relax, Sleep</th>\n",
              "      <th>HEALTH_AND_FITNESS</th>\n",
              "      <td>4.6</td>\n",
              "      <td>32505856.0</td>\n",
              "      <td>5000000</td>\n",
              "      <td>205299.000000</td>\n",
              "      <td>7.679838</td>\n",
              "      <td>0.526581</td>\n",
              "    </tr>\n",
              "    <tr>\n",
              "      <th>Diary with lock password</th>\n",
              "      <th>LIFESTYLE</th>\n",
              "      <td>4.3</td>\n",
              "      <td>10171187.2</td>\n",
              "      <td>5000000</td>\n",
              "      <td>179139.000000</td>\n",
              "      <td>15.197876</td>\n",
              "      <td>0.509656</td>\n",
              "    </tr>\n",
              "    <tr>\n",
              "      <th>Free Dating App &amp; Flirt Chat - Match with Singles</th>\n",
              "      <th>DATING</th>\n",
              "      <td>4.4</td>\n",
              "      <td>3250585.6</td>\n",
              "      <td>5000000</td>\n",
              "      <td>172460.000000</td>\n",
              "      <td>11.210000</td>\n",
              "      <td>0.583653</td>\n",
              "    </tr>\n",
              "    <tr>\n",
              "      <th>Grubhub: Food Delivery</th>\n",
              "      <th>FOOD_AND_DRINK</th>\n",
              "      <td>4.5</td>\n",
              "      <td>36700160.0</td>\n",
              "      <td>5000000</td>\n",
              "      <td>155944.000000</td>\n",
              "      <td>9.328189</td>\n",
              "      <td>0.470029</td>\n",
              "    </tr>\n",
              "    <tr>\n",
              "      <th>CALCU™ Stylish Calculator Free</th>\n",
              "      <th>TOOLS</th>\n",
              "      <td>4.7</td>\n",
              "      <td>11534336.0</td>\n",
              "      <td>5000000</td>\n",
              "      <td>152692.000000</td>\n",
              "      <td>13.398730</td>\n",
              "      <td>0.453467</td>\n",
              "    </tr>\n",
              "    <tr>\n",
              "      <th>Fraction Calculator Plus Free</th>\n",
              "      <th>TOOLS</th>\n",
              "      <td>4.5</td>\n",
              "      <td>11534336.0</td>\n",
              "      <td>5000000</td>\n",
              "      <td>148506.000000</td>\n",
              "      <td>11.551869</td>\n",
              "      <td>0.562035</td>\n",
              "    </tr>\n",
              "    <tr>\n",
              "      <th>Evie Launcher</th>\n",
              "      <th>PERSONALIZATION</th>\n",
              "      <td>4.7</td>\n",
              "      <td>0.0</td>\n",
              "      <td>5000000</td>\n",
              "      <td>139258.000000</td>\n",
              "      <td>8.893703</td>\n",
              "      <td>0.487391</td>\n",
              "    </tr>\n",
              "    <tr>\n",
              "      <th>Cat Sim Online: Play with Cats</th>\n",
              "      <th>FAMILY</th>\n",
              "      <td>4.6</td>\n",
              "      <td>84934656.0</td>\n",
              "      <td>5000000</td>\n",
              "      <td>137198.000000</td>\n",
              "      <td>11.034662</td>\n",
              "      <td>0.525187</td>\n",
              "    </tr>\n",
              "    <tr>\n",
              "      <th>BuzzFeed: News, Tasty, Quizzes</th>\n",
              "      <th>NEWS_AND_MAGAZINES</th>\n",
              "      <td>4.3</td>\n",
              "      <td>13631488.0</td>\n",
              "      <td>5000000</td>\n",
              "      <td>131028.000000</td>\n",
              "      <td>14.150040</td>\n",
              "      <td>0.474987</td>\n",
              "    </tr>\n",
              "    <tr>\n",
              "      <th>Calm - Meditate, Sleep, Relax</th>\n",
              "      <th>HEALTH_AND_FITNESS</th>\n",
              "      <td>4.6</td>\n",
              "      <td>0.0</td>\n",
              "      <td>5000000</td>\n",
              "      <td>111452.500000</td>\n",
              "      <td>18.819073</td>\n",
              "      <td>0.523327</td>\n",
              "    </tr>\n",
              "    <tr>\n",
              "      <th>Football Live Scores</th>\n",
              "      <th>SPORTS</th>\n",
              "      <td>4.5</td>\n",
              "      <td>6815744.0</td>\n",
              "      <td>5000000</td>\n",
              "      <td>107724.000000</td>\n",
              "      <td>13.770880</td>\n",
              "      <td>0.530955</td>\n",
              "    </tr>\n",
              "    <tr>\n",
              "      <th>Full Screen Caller ID</th>\n",
              "      <th>COMMUNICATION</th>\n",
              "      <td>4.2</td>\n",
              "      <td>10485760.0</td>\n",
              "      <td>5000000</td>\n",
              "      <td>104990.000000</td>\n",
              "      <td>10.712860</td>\n",
              "      <td>0.476662</td>\n",
              "    </tr>\n",
              "    <tr>\n",
              "      <th>Alfred Home Security Camera</th>\n",
              "      <th>HOUSE_AND_HOME</th>\n",
              "      <td>4.5</td>\n",
              "      <td>0.0</td>\n",
              "      <td>5000000</td>\n",
              "      <td>103305.000000</td>\n",
              "      <td>10.127227</td>\n",
              "      <td>0.475873</td>\n",
              "    </tr>\n",
              "    <tr>\n",
              "      <th rowspan=\"2\" valign=\"top\">H TV</th>\n",
              "      <th>ENTERTAINMENT</th>\n",
              "      <td>4.3</td>\n",
              "      <td>5872025.6</td>\n",
              "      <td>5000000</td>\n",
              "      <td>103078.000000</td>\n",
              "      <td>11.782500</td>\n",
              "      <td>0.408504</td>\n",
              "    </tr>\n",
              "    <tr>\n",
              "      <th>FAMILY</th>\n",
              "      <td>4.3</td>\n",
              "      <td>5872025.6</td>\n",
              "      <td>5000000</td>\n",
              "      <td>103064.000000</td>\n",
              "      <td>11.782500</td>\n",
              "      <td>0.408504</td>\n",
              "    </tr>\n",
              "    <tr>\n",
              "      <th>CBS Sports App - Scores, News, Stats &amp; Watch Live</th>\n",
              "      <th>SPORTS</th>\n",
              "      <td>4.3</td>\n",
              "      <td>0.0</td>\n",
              "      <td>5000000</td>\n",
              "      <td>91032.250000</td>\n",
              "      <td>31.470161</td>\n",
              "      <td>0.512472</td>\n",
              "    </tr>\n",
              "    <tr>\n",
              "      <th>AlReader -any text book reader</th>\n",
              "      <th>BOOKS_AND_REFERENCE</th>\n",
              "      <td>4.6</td>\n",
              "      <td>6186598.4</td>\n",
              "      <td>5000000</td>\n",
              "      <td>90468.000000</td>\n",
              "      <td>9.576496</td>\n",
              "      <td>0.412577</td>\n",
              "    </tr>\n",
              "    <tr>\n",
              "      <th>Ebook Reader</th>\n",
              "      <th>BOOKS_AND_REFERENCE</th>\n",
              "      <td>4.1</td>\n",
              "      <td>38797312.0</td>\n",
              "      <td>5000000</td>\n",
              "      <td>85842.000000</td>\n",
              "      <td>13.358767</td>\n",
              "      <td>0.581568</td>\n",
              "    </tr>\n",
              "    <tr>\n",
              "      <th>DisneyNOW – TV Shows &amp; Games</th>\n",
              "      <th>FAMILY</th>\n",
              "      <td>4.3</td>\n",
              "      <td>0.0</td>\n",
              "      <td>5000000</td>\n",
              "      <td>82480.333333</td>\n",
              "      <td>12.851493</td>\n",
              "      <td>0.535116</td>\n",
              "    </tr>\n",
              "    <tr>\n",
              "      <th>High-Speed Camera (GIF,Burst)</th>\n",
              "      <th>PHOTOGRAPHY</th>\n",
              "      <td>4.1</td>\n",
              "      <td>10485760.0</td>\n",
              "      <td>5000000</td>\n",
              "      <td>78140.000000</td>\n",
              "      <td>9.408333</td>\n",
              "      <td>0.396737</td>\n",
              "    </tr>\n",
              "    <tr>\n",
              "      <th>Google My Business</th>\n",
              "      <th>BUSINESS</th>\n",
              "      <td>4.4</td>\n",
              "      <td>0.0</td>\n",
              "      <td>5000000</td>\n",
              "      <td>70991.000000</td>\n",
              "      <td>31.407045</td>\n",
              "      <td>0.449417</td>\n",
              "    </tr>\n",
              "  </tbody>\n",
              "</table>\n",
              "</div>"
            ],
            "text/plain": [
              "                                                                       Rating  ...  Sentiment_Subjectivity\n",
              "App                                               Category                     ...                        \n",
              "DRAGON BALL LEGENDS                               GAME                    4.6  ...                0.519107\n",
              "G Cloud Backup                                    PRODUCTIVITY            4.6  ...                0.573890\n",
              "Goal Live Scores                                  SPORTS                  4.4  ...                0.513837\n",
              "Hide Something - Photo, Video                     SOCIAL                  4.6  ...                0.512799\n",
              "Fabulous: Motivate Me! Meditate, Relax, Sleep     HEALTH_AND_FITNESS      4.6  ...                0.526581\n",
              "Diary with lock password                          LIFESTYLE               4.3  ...                0.509656\n",
              "Free Dating App & Flirt Chat - Match with Singles DATING                  4.4  ...                0.583653\n",
              "Grubhub: Food Delivery                            FOOD_AND_DRINK          4.5  ...                0.470029\n",
              "CALCU™ Stylish Calculator Free                    TOOLS                   4.7  ...                0.453467\n",
              "Fraction Calculator Plus Free                     TOOLS                   4.5  ...                0.562035\n",
              "Evie Launcher                                     PERSONALIZATION         4.7  ...                0.487391\n",
              "Cat Sim Online: Play with Cats                    FAMILY                  4.6  ...                0.525187\n",
              "BuzzFeed: News, Tasty, Quizzes                    NEWS_AND_MAGAZINES      4.3  ...                0.474987\n",
              "Calm - Meditate, Sleep, Relax                     HEALTH_AND_FITNESS      4.6  ...                0.523327\n",
              "Football Live Scores                              SPORTS                  4.5  ...                0.530955\n",
              "Full Screen Caller ID                             COMMUNICATION           4.2  ...                0.476662\n",
              "Alfred Home Security Camera                       HOUSE_AND_HOME          4.5  ...                0.475873\n",
              "H TV                                              ENTERTAINMENT           4.3  ...                0.408504\n",
              "                                                  FAMILY                  4.3  ...                0.408504\n",
              "CBS Sports App - Scores, News, Stats & Watch Live SPORTS                  4.3  ...                0.512472\n",
              "AlReader -any text book reader                    BOOKS_AND_REFERENCE     4.6  ...                0.412577\n",
              "Ebook Reader                                      BOOKS_AND_REFERENCE     4.1  ...                0.581568\n",
              "DisneyNOW – TV Shows & Games                      FAMILY                  4.3  ...                0.535116\n",
              "High-Speed Camera (GIF,Burst)                     PHOTOGRAPHY             4.1  ...                0.396737\n",
              "Google My Business                                BUSINESS                4.4  ...                0.449417\n",
              "\n",
              "[25 rows x 6 columns]"
            ]
          },
          "metadata": {},
          "execution_count": 166
        }
      ]
    },
    {
      "cell_type": "code",
      "metadata": {
        "id": "7-dSfVx_h-x6"
      },
      "source": [
        ""
      ],
      "execution_count": null,
      "outputs": []
    }
  ]
}